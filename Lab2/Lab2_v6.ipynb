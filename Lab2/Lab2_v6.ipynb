{
 "cells": [
  {
   "cell_type": "markdown",
   "metadata": {
    "id": "iwhGEjuxTlZz"
   },
   "source": [
    "**STATISTICAL LEARNING AND NEURAL NETWORKS, A.A. 2022/2023**\n",
    "\n",
    "**COMPUTER LAB 2** - Model fitting and classification\n",
    "\n",
    "**Duration: 6 hours**"
   ]
  },
  {
   "cell_type": "markdown",
   "metadata": {
    "id": "Zw1lJAyRTtfy"
   },
   "source": [
    "**Exercise 1 – Model fitting for continuous distributions: Multivariate Gaussian**\n",
    "\n",
    "In this exercise, you will employ a dataset based on the classic dataset *Iris Plants Database* https://archive.ics.uci.edu/ml/datasets/iris. You will be provided a subset of this dataset comprising only two classes (*Iris Setosa* and *Iris Versicolour*), and only two features per class (*petal length* in cm and *petal width* in cm). The objective is to the determine the kind of iris based on the content of the features.\n",
    "\n",
    "**Task:** you have to fit class-conditional Gaussian multivariate distributions to the data, and visualize the probability density functions. In particular, you should perform the following:\n",
    "\n",
    "\n",
    "*   Divide the dataset in two parts (*Iris Setosa* which corresponds to class zero and *Iris Versicolour* which correspond to class 1). Then work only on one class at a time.\n",
    "*   Plot the data of each class (use the *plt.scatter( )* function)\n",
    "*   Visualize the histogram of petal length and petal width (use e.g. the *plt.hist( )* function)\n",
    "*   Calculate the maximum likelihood estimate of the mean and covariance matrix under a multivariate Gaussian model, independently for each class (these are the parameters of the class-conditional distributions). Note: is the Gaussian model good for these data?\n",
    "*    Visualize the 2-D joint pdf of petal length and width for the two classes."
   ]
  },
  {
   "cell_type": "code",
   "execution_count": null,
   "metadata": {
    "id": "hpkQuQS3TsZI"
   },
   "outputs": [],
   "source": [
    "import sys\n",
    "\n",
    "import numpy as np\n",
    "import matplotlib.pyplot as plt\n",
    "from matplotlib import cm\n",
    "import h5py\n",
    "\n",
    "Dataset1 = h5py.File(\"Lab2_Ex_1_Iris.hdf5\")\n",
    "Data = np.array(Dataset1.get('Dataset'))"
   ]
  },
  {
   "cell_type": "code",
   "execution_count": null,
   "metadata": {
    "id": "j4nPKMp-bTQa"
   },
   "outputs": [],
   "source": [
    "#Separate the dataset in the two classes, you can use the numpy function argsort and unique to do this.\n",
    "dataset_c0 = Data[Data[:, -1] == 0, :]\n",
    "dataset_c1 = Data[Data[:, -1] == 1, :]\n",
    "#Draw the scatter plot of the two classes on the same image\n",
    "plt.figure()\n",
    "plt.scatter(x=dataset_c0[:, 0], y=dataset_c0[:, 1])  #Iris Setosa\n",
    "plt.scatter(x=dataset_c1[:, 0], y=dataset_c1[:, 1])  #Iris Versicolour\n",
    "plt.xlabel('Petal length ($cm$)')\n",
    "plt.ylabel('Petal width ($cm$)')\n",
    "labels = ['Iris Setosa', 'Iris Versicolour']\n",
    "plt.legend(labels)\n",
    "plt.show()"
   ]
  },
  {
   "cell_type": "code",
   "execution_count": null,
   "metadata": {
    "id": "620rAMG0depm"
   },
   "outputs": [],
   "source": [
    "#Visualize the histogram of petal length and petal width (use e.g. the plt.hist() function)\n",
    "plt.figure()\n",
    "plt.hist([dataset_c0[:, 0], dataset_c1[:, 0], dataset_c0[:, 1], dataset_c1[:, 1]], histtype='bar', bins=20)\n",
    "features = ['Petal length ($cm$) for Iris Setosa', 'Petal length ($cm$) for Iris Versicolour',\n",
    "            'Petal width ($cm$) for Iris Setosa', 'Petal width ($cm$) for Iris Versicolour']\n",
    "# plt.hist([Data[:, 0], Data[:, 1]], histtype='bar', bins=20)\n",
    "# features = ['Petal length ($cm$)', 'Petal width ($cm$)']\n",
    "plt.legend(features)\n",
    "plt.show()"
   ]
  },
  {
   "cell_type": "code",
   "execution_count": null,
   "outputs": [],
   "source": [
    "def cov_matr(x, mean):\n",
    "    D = x.shape[1]\n",
    "    x_bar = x - mean\n",
    "    cov = np.empty(shape=(D, D))\n",
    "    for i in range(D):\n",
    "        for j in range(D):\n",
    "            cov[i, j] = np.mean(x_bar[i] * x_bar[j])\n",
    "    return cov\n",
    "\n",
    "\n",
    "def Npdf(v, mean, cov):\n",
    "    D = v.shape[1]\n",
    "    v_bar = v - mean\n",
    "    pdf = np.exp(-1 * np.multiply(v_bar.T, np.linalg.inv(cov) @ v_bar.T))\n",
    "    pdf /= (2 * np.pi) ** (D / 2) * np.linalg.det(cov) ** 0.5\n",
    "    return pdf"
   ],
   "metadata": {
    "collapsed": false
   }
  },
  {
   "cell_type": "code",
   "execution_count": null,
   "metadata": {
    "id": "zGm5v5fnfxE9"
   },
   "outputs": [],
   "source": [
    "#Calculate mean and covariance matrix under a multivariate Gaussian model. Scalar products can be computed with the function np.matmul()\n",
    "\n",
    "#The transpose can be obtained with the function np.transpose \n",
    "\n",
    "#To make a scalar product between arrays in the form [Mx1]x[1xM] starting from 1D array A it may be necessary to add a new axis using \n",
    "#the function A[:,np.newaxis]\n",
    "v = [dataset_c0[:, :2], dataset_c1[:, :2]]\n",
    "N_c = [v[i].shape[1] for i in range(2)]\n",
    "mean = np.array([np.mean(v[i], axis=0) for i in range(2)])\n",
    "cov = np.array([np.cov(v[i].T) for i in range(2)])"
   ]
  },
  {
   "cell_type": "code",
   "execution_count": null,
   "metadata": {
    "id": "SF9GkeLT9Dlc"
   },
   "outputs": [],
   "source": [
    "from scipy.stats import multivariate_normal\n",
    "from matplotlib import cm\n",
    "from matplotlib.ticker import LinearLocator\n",
    "\n",
    "pdf = [multivariate_normal(mean=mean[i], cov=cov[i]) for i in range(2)]\n",
    "\n",
    "#Create a grid of x and y values on which to sample the pdf, this is done by providing a list of x-y of coordinates to the function pdf_class0.pdf(...)\n",
    "#A 3D view of the pdf can be obtained using the function ax.plot_surface\n",
    "\n",
    "c = 1\n",
    "\n",
    "X = v[c][:, 0]\n",
    "Y = v[c][:, 1]\n",
    "\n",
    "X, Y = np.meshgrid(X, Y)\n",
    "X_flat = X.flatten()\n",
    "Y_flat = Y.flatten()\n",
    "XY_list = np.concatenate((X_flat[:, np.newaxis], Y_flat[:, np.newaxis]), axis=1)\n",
    "PDF_values = np.reshape(pdf[c].pdf(XY_list), np.shape(X))\n",
    "\n",
    "fig, ax = plt.subplots(subplot_kw={\"projection\": \"3d\"}, figsize=(8, 8), dpi=150)\n",
    "ax.plot_surface(X, Y, PDF_values, cmap=cm.coolwarm, alpha=0.7, linewidth=0)\n",
    "\n",
    "#To change the orientation of the 3D plot the function ax.view_init(), for a view from above select ax.view_init( 90, 0)"
   ]
  },
  {
   "cell_type": "code",
   "execution_count": null,
   "outputs": [],
   "source": [
    "#After visualizing the pdf you can plot the points of the dataset on the estimated pdf using ax.scatter3D()\n",
    "#For a better visualization of the points we suggest to make the pdf plot semi-transparent using the alpha parameter\n",
    "\n",
    "#Code Example: \n",
    "PDF_points = pdf[c].pdf(v[c])\n",
    "Points_Feature0 = v[c].T[0, :]\n",
    "Points_Feature1 = v[c].T[1, :]\n",
    "ax.scatter3D(Points_Feature0, Points_Feature1, PDF_points, s=10)\n",
    "\n",
    "#Note: the sample code was written only for class 0 but two plots have to be done, one for class 0 and one for class 1\n",
    "#Note 2: the content of variables like Features_class0, Points_Class0_Feature0, Points_Class0_Feature1 should be substituted with variables created by the student"
   ],
   "metadata": {
    "collapsed": false
   }
  },
  {
   "cell_type": "markdown",
   "metadata": {
    "id": "pTpZd04_NEZz"
   },
   "source": [
    "**Student's comments to Exercise 1**\n",
    "\n",
    "*Add comments to the results of Exercise 1 here (may use LateX for formulas if needed).*"
   ]
  },
  {
   "cell_type": "markdown",
   "metadata": {
    "id": "-NemN6SgT9zn"
   },
   "source": [
    "**Exercise 2 - Model fitting for discrete distributions: Bag of Words**\n",
    "\n",
    "\n",
    "In this exercise, you will employ a real dataset (file *SMSSpamCollection*). The SMS Spam Collection v.1 (https://www.kaggle.com/datasets/uciml/sms-spam-collection-dataset) is a set of SMS tagged messages that have been collected for SMS Spam research. It contains one set of SMS messages in English of 5,574 messages, tagged acording being ham (legitimate) or spam.\n",
    "Task: you have to fit the parameters employed by a Naïve Bayes Classifier, using a Bernoulli model. Under this model, the parameters are:\n",
    "\n",
    "*   $\\pi_{c}$, the prior probabilities of each class.\n",
    "*   $\\theta_{jc}$, the probability that feature j is equal to 1 in class c.\n",
    "\n",
    "Model fitting can be done using the pseudocode at the end of the Lecture 3 slides.\n",
    "\n",
    "Display the class-conditional densities $\\theta_{jc1}$ and $\\theta_{jc2}$. Try to identify “uninformative” features (i.e., features j such that $\\theta_{jc1}$ ≃ $\\theta_{jc2}$)."
   ]
  },
  {
   "cell_type": "code",
   "execution_count": 1,
   "metadata": {
    "colab": {
     "base_uri": "https://localhost:8080/",
     "height": 389
    },
    "id": "aRuVqGZZck1K",
    "outputId": "6b7a83b9-7c6e-4a24-8776-91b891389ad8",
    "ExecuteTime": {
     "end_time": "2023-11-22T14:35:39.855892900Z",
     "start_time": "2023-11-22T14:35:38.952067Z"
    }
   },
   "outputs": [],
   "source": [
    "import pandas as pd\n",
    "import seaborn as sns\n",
    "import matplotlib.pyplot as plt\n",
    "import numpy as np\n",
    "from sklearn.feature_extraction.text import CountVectorizer\n",
    "\n",
    "# reading the data\n",
    "data = pd.read_csv(\"SMSSpamCollection\", encoding=\"ISO-8859-1\", sep=\"\\t\", header=None)\n",
    "data.rename(columns={0: \"labels\", 1: \"text\"}, inplace=True)\n",
    "# display(data)\n",
    "\n",
    "# Transform data to bag of word representation\n",
    "bagger = CountVectorizer(\n",
    "    max_features=2500,\n",
    "    binary=True,  # Bernoulli Model\n",
    "    token_pattern=r\"(?u)\\b[a-zA-Z][a-zA-Z]+\\b\",\n",
    ")\n",
    "# bag will contain a matrix, which each element is the number of occurrences for each word\n",
    "bag = bagger.fit_transform(data[\"text\"]).toarray()\n",
    "# feature names will contain each existing word in the data\n",
    "feature_names = bagger.get_feature_names_out()\n",
    "\n",
    "data = pd.concat([data, pd.DataFrame(bag, columns=feature_names)], axis=1)\n",
    "# display(data)\n",
    "\n",
    "X_train = data.iloc[:2000, 2:].to_numpy()\n",
    "X_test = data.iloc[2000:3000, 2:].to_numpy()\n",
    "y_train = data.iloc[:2000, 0].to_numpy() == 'ham'\n",
    "y_test = data.iloc[2000:3000, 0].to_numpy() == 'ham'"
   ]
  },
  {
   "cell_type": "code",
   "execution_count": 2,
   "metadata": {
    "id": "iDc-RTLPUn_g",
    "ExecuteTime": {
     "end_time": "2023-11-22T14:35:42.802947800Z",
     "start_time": "2023-11-22T14:35:39.862401200Z"
    }
   },
   "outputs": [],
   "source": [
    "#Evaluate the probabilities of the two classes, and the class conditional densities.\n",
    "N = len(X_train)\n",
    "N_features = len(feature_names)\n",
    "N_c = np.zeros(2)\n",
    "N_jc = np.zeros(shape=(N_features, 2))\n",
    "for i in range(N):\n",
    "    c = 0 if y_train[i] else 1\n",
    "    N_c[c] += 1\n",
    "    for j in range(N_features):\n",
    "        N_jc[j, c] += X_train[i, j]\n",
    "pi_c = N_c / N\n",
    "# display(pijc)"
   ]
  },
  {
   "cell_type": "code",
   "execution_count": 3,
   "metadata": {
    "id": "b_o62zfqTCR3",
    "ExecuteTime": {
     "end_time": "2023-11-22T14:35:42.826636700Z",
     "start_time": "2023-11-22T14:35:42.809117Z"
    }
   },
   "outputs": [],
   "source": [
    "#Display the class-conditional densities θjc1 and θjc2.\n",
    "theta_jc = np.array([N_jc[:, i] / N_c[i] for i in range(2)]).T\n",
    "# display(theta_jc)"
   ]
  },
  {
   "cell_type": "code",
   "execution_count": 4,
   "outputs": [
    {
     "data": {
      "text/plain": "<Figure size 1000x500 with 2 Axes>",
      "image/png": "[encoded data removed]"
     },
     "metadata": {},
     "output_type": "display_data"
    }
   ],
   "source": [
    "_, (ax1, ax2) = plt.subplots(1, 2, figsize=(10, 5))\n",
    "\n",
    "ax1.set_title('$c = 0$')\n",
    "ax1.vlines(x=np.arange(len(theta_jc[:, 0])), ymin=0, ymax=theta_jc[:, 0], label='$p(x=1|y=0)$')\n",
    "ax1.set_xlabel('j-th word')\n",
    "ax1.legend()\n",
    "\n",
    "ax2.set_title('$c = 1$')\n",
    "ax2.vlines(x=np.arange(len(theta_jc[:, 1])), ymin=0, ymax=theta_jc[:, 1], label='$p(x=1|y=1)$')\n",
    "ax2.set_xlabel('j-th word')\n",
    "ax2.legend()\n",
    "\n",
    "plt.tight_layout()\n",
    "plt.show()"
   ],
   "metadata": {
    "collapsed": false,
    "ExecuteTime": {
     "end_time": "2023-11-22T14:35:43.725780200Z",
     "start_time": "2023-11-22T14:35:42.816535100Z"
    }
   }
  },
  {
   "cell_type": "code",
   "execution_count": 5,
   "outputs": [
    {
     "data": {
      "text/plain": "<Figure size 600x500 with 1 Axes>",
      "image/png": "[encoded data removed]"
     },
     "metadata": {},
     "output_type": "display_data"
    }
   ],
   "source": [
    "plt.figure(figsize=(6, 5))\n",
    "\n",
    "plt.title('Informative values measurement')\n",
    "plt.vlines(x=np.arange(len(theta_jc[:, 0])),\n",
    "           ymin=0,\n",
    "           ymax=np.abs(theta_jc[:, 0] - theta_jc[:, 1]),\n",
    "           label='$|p(x=1|y=0) - p(x=1|y=1)|$')\n",
    "plt.xlabel('j-th word')\n",
    "plt.legend()\n",
    "plt.tight_layout()\n",
    "plt.show()"
   ],
   "metadata": {
    "collapsed": false,
    "ExecuteTime": {
     "end_time": "2023-11-22T14:35:44.174926100Z",
     "start_time": "2023-11-22T14:35:43.726780200Z"
    }
   }
  },
  {
   "cell_type": "markdown",
   "metadata": {
    "id": "lo67SKuYNN2z"
   },
   "source": [
    "**Student's comments to Exercise 2**\n",
    "\n",
    "*Add comments to the results of Exercise 2 here (may use LateX for formulas if needed).*"
   ]
  },
  {
   "cell_type": "markdown",
   "metadata": {
    "id": "lnWIukCTcnzE"
   },
   "source": [
    "**Exercise 3 - Classification – discrete data**\n",
    "\n",
    "In this exercise, you will design a Naïve Bayes Classifier (NBC) for the Bag of Words (BoW) features for document classification that have been prepared in *Exercise 2*. In particular, in *exercise 2*, you have already estimated the following parameters:\n",
    "\n",
    "\n",
    "*   The prior probabilities of each class, $\\pi_{c} = p(y=c)$.\n",
    "*   The class-conditional probabilities of each feature, $\\theta_{jc} = p(x_{j}=1 | y=c)$.\n",
    "\n",
    "These parameters have been estimated from the training data. In this exercise, you will use the test data, and classify each test vector using an NBC whose model has been fitted in *Exercise 2*. In particular, you will do the following:\n",
    "\n",
    "\n",
    "\n",
    "*   For each test vector, calculate the MAP estimate of the class the test vector belongs to. Remember: the MAP classifier chooses the class that maximizes $\\mathop{\\max\\limits_c{\\log p(y=c|x)} \\propto \\log p(x|y=c)} + \\log p(c)$. In the NBC, the features (i.e. each entry of $x$) are assumed to be statistically independent, so $p(x|y=c) = \\prod_{j=1}^{D}p(x_{j}|y=c)$. This formula allows you to calculate $p(x|y=c)$ for a given test vector $x$ using the parameters $\\theta_{jc}$ already calculated in *Exercise 2*. Note that, after the logarithm, the product \n",
    "becomes a summation. It is much better to use the logarithm in order to avoid underflow.\n",
    "*   See how the accuracy changes when the prior is not taken into account (e.g. by comparing the MLE and MAP estimate).\n",
    "*   After classifying a test vector using the NBC, the obtained class can be compared with the truth (vector *ytest*).\n",
    "*   The accuracy of the classifier can be computed as the percentage of times that the NBC provides the correct class for a test vector.\n",
    "*   Repeat the same operations using the training data as test data, and compare the accuracy of the classifier on the training and test data.\n",
    "*   Note: It is expected that students implement the Naive Bayes classifier from scratch without using pre-made functions such as sklearn.naive_bayes\n",
    "\n",
    "**Optional:**\n",
    "\n",
    "If you plot the class-conditional densities as done at the end of Exercise 2, you will see that many features are uninformative; e.g., words that appear very often (or very rarely) in documents belonging to either class are not very helpful to classify a document. The NBC can perform a lot better if these uninformative features are disregarded during the classification, i.e. only a subset of the features, chosen among the most informative ones, are retained. To rank the features by “significance”, one can employ the mutual information between feature $x_{j}$ and class $y$ (see Sec. 3.5.4 of the textbook):\n",
    "\n",
    "\\begin{align*}\n",
    "I(X,Y) = \\sum_{xj} \\sum_{y}p(x_{j},y) \\log \\frac{p(x_{j},y)}{p(x_{j})p(y)}\n",
    "\\end{align*}\n",
    "\n",
    "For binary features, the mutual information of feature j can be written as:\n",
    "\n",
    "\\begin{align*}\n",
    "I_{j} = \\sum_{c} \\left[\\theta_{jc}\\pi_{c}\\log \\frac{\\theta_{jc}}{\\theta_{j}}+ (1 - \\theta_{jc})\\pi_{c} \\log \\frac{1 - \\theta_{jc}}{1 - \\theta_{j}}\\right]\n",
    "\\end{align*}\n",
    "\n",
    "with $\\theta_{j}=p(x_{j}=1)=\\sum_{c}\\pi_{c}\\theta_{jc}$. For this part, you should:\n",
    "\n",
    "\n",
    "*   Calculate $I_{j}$ for all features. Note: try to avoid divisions by zero adding the machine precision constant *eps* to the denominators.\n",
    "*   Rank the features by decreasing values of $I_{j}$, and keep only the $K$ most important ones.\n",
    "\n",
    "*    Run the classifier employing only the $K$ most important features, and calculate the accuracy.\n",
    "\n",
    "*    Plot the accuracy as a function of $K$."
   ]
  },
  {
   "cell_type": "code",
   "execution_count": 6,
   "outputs": [],
   "source": [
    "# Naive Bayes Classifier with parameters\n",
    "def NBC(X, theta_jc, pi_c, features_indices=None, MAP_estimation=True):\n",
    "    N = X.shape[0]\n",
    "    N_c = len(pi_c)\n",
    "    if features_indices is None:\n",
    "        features_indices = np.arange(X.shape[1])\n",
    "    matches = [np.intersect1d(np.argwhere(X[i, :] == 1), features_indices) for i in range(N)]\n",
    "    LH = np.zeros(shape=(N, N_c))\n",
    "    eps = 1e-10\n",
    "    for c in range(N_c):\n",
    "        for i in range(N):\n",
    "            LH[i, c] = sum(np.log(theta_jc[j, c] + eps) for j in matches[i])\n",
    "    if MAP_estimation:\n",
    "        return np.array([np.argmax([LH[i, c] + pi_c[c] for c in range(N_c)]) for i in\n",
    "                         range(N)])  # returning result of MAP estimation\n",
    "    return np.array([np.argmax([LH[i, c] for c in range(N_c)]) for i in range(N)])  # returning result of MLE estimation"
   ],
   "metadata": {
    "collapsed": false,
    "ExecuteTime": {
     "end_time": "2023-11-22T14:35:44.201061800Z",
     "start_time": "2023-11-22T14:35:44.182928Z"
    }
   }
  },
  {
   "cell_type": "code",
   "execution_count": 7,
   "metadata": {
    "id": "1q0Cbwtmcm8D",
    "ExecuteTime": {
     "end_time": "2023-11-22T14:35:44.410770700Z",
     "start_time": "2023-11-22T14:35:44.197056Z"
    }
   },
   "outputs": [
    {
     "name": "stdout",
     "output_type": "stream",
     "text": [
      "Accuracy of MAP: 94.89999999999999%\n"
     ]
    }
   ],
   "source": [
    "#Evaluate the MAP on the test set\n",
    "N_test = len(X_test)\n",
    "\n",
    "y_test_MAP = NBC(X_test, theta_jc, pi_c, MAP_estimation=True)\n",
    "y_test_MAP_bool = [not bool(y_test_MAP[i]) for i in range(N_test)]\n",
    "\n",
    "accuracy_MAP_test = sum(y_test_MAP_bool[i] == y_test[i] for i in range(N_test)) / N_test\n",
    "print(f'Accuracy of MAP: {accuracy_MAP_test * 100}%')"
   ]
  },
  {
   "cell_type": "code",
   "execution_count": 8,
   "metadata": {
    "id": "_hFwaEmsZxxq",
    "ExecuteTime": {
     "end_time": "2023-11-22T14:35:44.619819300Z",
     "start_time": "2023-11-22T14:35:44.411772900Z"
    }
   },
   "outputs": [
    {
     "name": "stdout",
     "output_type": "stream",
     "text": [
      "Accuracy of MLE on test dataset: 94.19999999999999%\n"
     ]
    }
   ],
   "source": [
    "#Evaluate the MLE on the test set\n",
    "y_test_MLE = NBC(X_test, theta_jc, pi_c, MAP_estimation=False)\n",
    "y_test_MLE_bool = [not bool(y_test_MLE[i]) for i in range(N_test)]\n",
    "\n",
    "accuracy_MLE_test = sum(y_test_MLE_bool[i] == y_test[i] for i in range(N_test)) / N_test\n",
    "print(f'Accuracy of MLE on test dataset: {accuracy_MLE_test * 100}%')"
   ]
  },
  {
   "cell_type": "code",
   "execution_count": 9,
   "outputs": [
    {
     "name": "stdout",
     "output_type": "stream",
     "text": [
      "Accuracy of MAP: 98.4%\n"
     ]
    }
   ],
   "source": [
    "#Evaluate the MAP on the training set\n",
    "N_train = len(X_train)\n",
    "y_train_MAP = NBC(X_train, theta_jc, pi_c, MAP_estimation=True)\n",
    "y_train_MAP_bool = [not bool(y_train_MAP[i]) for i in range(N_train)]\n",
    "\n",
    "accuracy_MAP_train = sum(y_train_MAP_bool[i] == y_train[i] for i in range(N_train)) / N_train\n",
    "print(f'Accuracy of MAP: {accuracy_MAP_train * 100}%')"
   ],
   "metadata": {
    "collapsed": false,
    "ExecuteTime": {
     "end_time": "2023-11-22T14:35:45.044057200Z",
     "start_time": "2023-11-22T14:35:44.624837800Z"
    }
   }
  },
  {
   "cell_type": "code",
   "execution_count": 10,
   "outputs": [
    {
     "name": "stdout",
     "output_type": "stream",
     "text": [
      "Accuracy of MLE on train dataset: 97.95%\n"
     ]
    }
   ],
   "source": [
    "#Evaluate the MLE on the training set\n",
    "y_train_MLE = NBC(X_train, theta_jc, pi_c, MAP_estimation=False)\n",
    "y_train_MLE_bool = [not bool(y_train_MLE[i]) for i in range(N_train)]\n",
    "\n",
    "accuracy_MLE_train = sum(y_train_MLE_bool[i] == y_train[i] for i in range(N_train)) / N_train\n",
    "print(f'Accuracy of MLE on train dataset: {accuracy_MLE_train * 100}%')"
   ],
   "metadata": {
    "collapsed": false,
    "ExecuteTime": {
     "end_time": "2023-11-22T14:35:45.498172100Z",
     "start_time": "2023-11-22T14:35:45.049194200Z"
    }
   }
  },
  {
   "cell_type": "code",
   "execution_count": 11,
   "metadata": {
    "id": "1PTAw1dMagCR",
    "ExecuteTime": {
     "end_time": "2023-11-22T14:35:45.582254600Z",
     "start_time": "2023-11-22T14:35:45.505331600Z"
    }
   },
   "outputs": [],
   "source": [
    "#Optional section\n",
    "eps = 1e-10\n",
    "theta_j = np.array([sum(pi_c[c] * theta_jc[j, c] for c in range(2)) for j in range(len(feature_names))])\n",
    "Ij = np.zeros(len(feature_names))\n",
    "for j in range(len(feature_names)):\n",
    "    for c in range(2):\n",
    "        Tpos = theta_jc[j, c] * np.log((eps + theta_jc[j, c]) / (eps + theta_j[j]))\n",
    "        Tneg = (1 - theta_jc[j, c]) * np.log((eps + 1 - theta_jc[j, c]) / (eps + 1 - theta_j[j]))\n",
    "        Ij[j] += pi_c[c] * (Tpos + Tneg)"
   ]
  },
  {
   "cell_type": "code",
   "execution_count": 12,
   "outputs": [
    {
     "name": "stdout",
     "output_type": "stream",
     "text": [
      "Accuracy of MAP (using all features): 94.89999999999999%\n",
      "Accuracy of MAP (using 2000 more informative features): 95.1%\n"
     ]
    }
   ],
   "source": [
    "K = 2000\n",
    "Ij_sorted_rev = np.argsort(Ij)[::-1]\n",
    "\n",
    "y_test_MAP_K = NBC(X_test, theta_jc, pi_c, features_indices=Ij_sorted_rev[:K], MAP_estimation=True)\n",
    "y_test_MAP_K_bool = [not bool(y_test_MAP_K[i]) for i in range(N_test)]\n",
    "\n",
    "accuracy_MAP_K_test = sum(y_test_MAP_K_bool[i] == y_test[i] for i in range(N_test)) / N_test\n",
    "print(f'Accuracy of MAP (using all features): {accuracy_MAP_test * 100}%')\n",
    "print(f'Accuracy of MAP (using {K} more informative features): {accuracy_MAP_K_test * 100}%')"
   ],
   "metadata": {
    "collapsed": false,
    "ExecuteTime": {
     "end_time": "2023-11-22T14:35:45.836393500Z",
     "start_time": "2023-11-22T14:35:45.559969300Z"
    }
   }
  },
  {
   "cell_type": "code",
   "execution_count": 13,
   "outputs": [
    {
     "name": "stdout",
     "output_type": "stream",
     "text": [
      "Max accuracy found: 95.1% for K = 1950\n"
     ]
    }
   ],
   "source": [
    "# Evaluation of NBC as a function of K\n",
    "step = 50\n",
    "accuracies = np.empty(int(len(feature_names) / step))\n",
    "for k in range(len(accuracies)):\n",
    "    y_hat = NBC(X_test, theta_jc, pi_c, features_indices=Ij_sorted_rev[:(k + 1) * step])\n",
    "    y_hat_bool = [not bool(y_hat[i]) for i in range(N_test)]\n",
    "\n",
    "    accuracies[k] = sum(y_hat_bool[i] == y_test[i] for i in range(N_test)) / N_test\n",
    "max_accuracy_index = np.argmax(accuracies)\n",
    "max_accuracy_K = max_accuracy_index * step\n",
    "print(f'Max accuracy found: {accuracies[max_accuracy_index] * 100}% for K = {max_accuracy_index * step}')"
   ],
   "metadata": {
    "collapsed": false,
    "ExecuteTime": {
     "end_time": "2023-11-22T14:35:54.215929700Z",
     "start_time": "2023-11-22T14:35:45.844227100Z"
    }
   }
  },
  {
   "cell_type": "code",
   "execution_count": 14,
   "outputs": [
    {
     "data": {
      "text/plain": "<Figure size 1000x500 with 1 Axes>",
      "image/png": "[encoded data removed]"
     },
     "metadata": {},
     "output_type": "display_data"
    }
   ],
   "source": [
    "plt.figure(figsize=(10, 5))\n",
    "plt.plot((np.arange(len(accuracies)) + 1) * step, accuracies)\n",
    "plt.ylim([0, 1])\n",
    "plt.show()"
   ],
   "metadata": {
    "collapsed": false,
    "ExecuteTime": {
     "end_time": "2023-11-22T14:35:54.475469600Z",
     "start_time": "2023-11-22T14:35:54.220858600Z"
    }
   }
  },
  {
   "cell_type": "markdown",
   "metadata": {
    "id": "nkAjnxUxNWc3"
   },
   "source": [
    "**Student's comments to Exercise 3**\n",
    "\n",
    "*Add comments to the results of Exercise 3 here (may use LateX for formulas if needed).*"
   ]
  },
  {
   "cell_type": "markdown",
   "metadata": {
    "id": "0QWIOOdBc0R5"
   },
   "source": [
    "**Exercise 4 – Plotting the ROC curve**\n",
    "\n",
    "For the discrete data classification problem of Exercise 3, analyse the performance of the classifier plotting the complete ROC curve, instead of simply measuring the accuracy. This requires to do the following.\n",
    "\n",
    "*   Instead of classifying the documents choosing class 1 if $p(y=1|x)>p(y=2|x)$, now you can generalize this to choosing class 1 if $\\frac{p(y=1|x)}{p(y=2|x)}>\\tau \\in [0, \\infty)$ for some threshold $\\tau$ that determines the compromise between true positive rate (TPR) and false positive rate (FPR). \n",
    "*   Choose a **reasonable** range of values for $\\tau$. For each value of $\\tau$, compute the TPR and FPR on the dataset (Hint: determine suitable minimum and maximum values for $\\tau$, and sample densely enough in that range). \n",
    "* Plot a curve of TPR as a function of FPR – this is the ROC curve for this classifier.\n",
    "\n",
    "*   Determine an estimate of the Equal Error Rate (EER), i.e. the point of the ROC curve such that TPR+FPR=1."
   ]
  },
  {
   "cell_type": "code",
   "execution_count": null,
   "outputs": [],
   "source": [
    "K = max_accuracy_K\n",
    "Ij_sorted_rev = np.argsort(Ij)[::-1]\n",
    "\n",
    "y_test_MAP_K = NBC(X_test, theta_jc, pi_c, features_indices=Ij_sorted_rev[:K], MAP_estimation=True)\n",
    "y_test_MAP_K_bool = [not bool(y_test_MAP_K[i]) for i in range(N_test)]\n",
    "\n",
    "print(f'Accuracy of MAP (using all features): {accuracy_MAP_test * 100}%')\n",
    "print(f'Accuracy of MAP (using {K} more informative features): {accuracy_MAP_K_test * 100}%')"
   ],
   "metadata": {
    "collapsed": false
   }
  },
  {
   "cell_type": "code",
   "execution_count": 69,
   "outputs": [
    {
     "name": "stdout",
     "output_type": "stream",
     "text": [
      "[0.10852713178294573, 0.8909299655568312]\n"
     ]
    }
   ],
   "source": [
    "#Use the posterior probabilities previously and classify using the formula above to estimate tau\n",
    "N = X_test.shape[0]\n",
    "N_c = len(pi_c)\n",
    "matches = [np.intersect1d(np.argwhere(X_test[i, :] == 1), Ij_sorted_rev[:K]) for i in range(N)]\n",
    "LH = np.zeros(shape=(N, N_c))\n",
    "eps = 1e-10\n",
    "for c in range(N_c):\n",
    "    for i in range(N):\n",
    "        LH[i, c] = sum(np.log(theta_jc[j, c] + eps) for j in matches[i])\n",
    "dr = 0\n",
    "f_x = np.array([LH[i, dr] + pi_c[dr] - LH[i, 1 - dr] + pi_c[1 - dr] for i in range(N)])\n",
    "tau_values = np.unique(np.append(0, [f_x[i] for i in np.argsort(f_x)]))\n",
    "#classification using these tau values\n",
    "NP = np.argwhere(y_test).shape[0]\n",
    "NN = N - NP\n",
    "TPR = np.empty(len(tau_values))\n",
    "FPR = np.empty(len(tau_values))\n",
    "for i in range(len(tau_values)):\n",
    "    result_positives = f_x[y_test]\n",
    "    result_negatives = f_x[np.equal(y_test, False)]\n",
    "    TP = np.sum(result_positives > tau_values[i])\n",
    "    FP = np.sum(result_negatives > tau_values[i])\n",
    "    #Note: To estimate the TPR you need to compute the number of cases where class 1 is correctly predicted, \n",
    "    #this value then has to be divided by the number of elements in the test set which belong to class 1\n",
    "    TPR[i] = TP / NP\n",
    "    #The FPR is computed by selecting the number of cases where class 1 is predicted incorrectly, \n",
    "    #this value then has to be divided by the number of elements in the test set which do not belong to class 1\n",
    "    FPR[i] = FP / NN\n",
    "#The point corresponding to the EER can be found by plotting on the ROC curve the function y = 1 - x\n",
    "EER_i = np.argmin([np.abs(TPR[i] + FPR[i] - 1) for i in range(len(tau_values))])\n",
    "EER = [FPR[EER_i], TPR[EER_i]]\n",
    "print(EER)"
   ],
   "metadata": {
    "collapsed": false,
    "ExecuteTime": {
     "end_time": "2023-11-22T16:33:32.477712200Z",
     "start_time": "2023-11-22T16:33:32.283437300Z"
    }
   }
  },
  {
   "cell_type": "code",
   "execution_count": 82,
   "outputs": [
    {
     "data": {
      "text/plain": "<Figure size 640x480 with 1 Axes>",
      "image/png": "[encoded data removed]"
     },
     "metadata": {},
     "output_type": "display_data"
    }
   ],
   "source": [
    "plt.figure()\n",
    "plt.plot(FPR, TPR)\n",
    "plt.plot(EER[0], EER[1], 'ro')\n",
    "plt.annotate(f'({EER[0]:.3f}, {EER[1]:.3f})', (EER[0], EER[1]))\n",
    "plt.xlabel('False positive rate (FPR)')\n",
    "plt.ylabel('True positive rate (TPR)')\n",
    "labels = ['ROC curve', 'EEC point']\n",
    "plt.legend(labels)\n",
    "plt.grid()\n",
    "plt.tight_layout()\n",
    "plt.show()"
   ],
   "metadata": {
    "collapsed": false,
    "ExecuteTime": {
     "end_time": "2023-11-22T16:38:27.527436800Z",
     "start_time": "2023-11-22T16:38:27.323590200Z"
    }
   }
  },
  {
   "cell_type": "markdown",
   "metadata": {
    "id": "1Me2HlCRNa8W"
   },
   "source": [
    "**Student's comments to Exercise 4**\n",
    "\n",
    "*Add comments to the results of Exercise 4 here (may use LateX for formulas if needed).*"
   ]
  },
  {
   "cell_type": "markdown",
   "metadata": {
    "id": "jQNUFexxc94-"
   },
   "source": [
    "**Exercise 5 – Classification – continuous data**\n",
    "\n",
    "This exercise employs the Iris dataset already employed in Exercise 1, and performs model fitting and classification using several versions of **Gaussian discriminative analysis**. However, for this exercise the available data have to be divided into two sets, namely *training* and *test* data. \n",
    "\n",
    "You will have to 1) re-fit the training data to the specific model (see below), 2) classify each of the test samples, and 3) calculate the accuracy of each classifier.\n",
    "\n",
    "Classifiers to be employed:\n",
    "*   Two-class quadratic discriminant analysis (fitting: both mean values and covariance matrices are class-specific – same as in exercise 1).\n",
    "*   Two-class linear discriminant analysis (fitting: class-specific mean values as in the previous case. Shared covariance matrix is calculated putting together the elements of both classes; the mean values should also be recalculated accordingly)."
   ]
  },
  {
   "cell_type": "code",
   "execution_count": null,
   "metadata": {
    "id": "vJTl-QmJdBDj"
   },
   "outputs": [],
   "source": [
    "import numpy as np\n",
    "import matplotlib.pyplot as plt\n",
    "import h5py\n",
    "\n",
    "Dataset1 = h5py.File(\"/content/Lab2_Ex_1_Iris.hdf5\")\n",
    "Data = np.array(Dataset1.get('Dataset'))\n",
    "\n",
    "Train = Data[:50, :]\n",
    "Test = Data[50:, :]"
   ]
  },
  {
   "cell_type": "markdown",
   "metadata": {
    "id": "Lp32RGD6Nd2K"
   },
   "source": [
    "**Student's comments to Exercise 5**\n",
    "\n",
    "*Add comments to the results of Exercise 5 here (may use LateX for formulas if needed).*"
   ]
  },
  {
   "cell_type": "markdown",
   "metadata": {
    "id": "D-3cCP8ndBkz"
   },
   "source": [
    "**Exercise 6 – Classification – continuous data**\n",
    "\n",
    "Classify the data in the phoneme dataset from Lab. 1 using quadratic discriminant analysis, linear discriminat analysis and a Naive Bayes classifier. \n",
    "\n",
    "Compute the accuracy of each classifier and compare its performance with that of the k-nn classifier developed in Lab. 1.\n",
    "\n",
    "Note: in Lab1 we had to employ a subset of the oiginal dataset due to the fact that k-nn has a quadratic complexity making it unfit for use on large datasets. The algorithms illustrated in this Lab have smaller complexity and thus it is possible to train on more data.\n",
    "\n",
    "For this exercise you can use the sklearn library."
   ]
  },
  {
   "cell_type": "code",
   "execution_count": null,
   "metadata": {
    "id": "O7urLt_kdLxt"
   },
   "outputs": [],
   "source": [
    "import numpy as np\n",
    "import h5py\n",
    "from scipy.stats import multivariate_normal\n",
    "\n",
    "Dataset2 = h5py.File(\"/content/Lab2_Ex_6_phoneme.hdf5\")\n",
    "Data = np.array(Dataset2.get('Dataset'))\n",
    "\n",
    "Train = Data[:4000, :]\n",
    "Test = Data[4000:, :]\n",
    "len_dat = np.shape(Test)[0]\n",
    "\n",
    "from sklearn import metrics\n",
    "from sklearn.discriminant_analysis import LinearDiscriminantAnalysis, QuadraticDiscriminantAnalysis\n",
    "from sklearn.naive_bayes import GaussianNB\n",
    "\n",
    "#Part 1\n",
    "clf = LinearDiscriminantAnalysis()\n",
    "#Complete here\n",
    "\n",
    "#Part 2\n",
    "clf2 = QuadraticDiscriminantAnalysis()\n",
    "#Complete here\n",
    "\n",
    "#Part 3\n",
    "clf3 = GaussianNB()\n",
    "#Complete here"
   ]
  },
  {
   "cell_type": "markdown",
   "metadata": {
    "id": "faJ5zulmNhAJ"
   },
   "source": [
    "**Student's comments to Exercise 6**\n",
    "\n",
    "*Add comments to the results of Exercise 6 here (may use LateX for formulas if needed).*"
   ]
  }
 ],
 "metadata": {
  "colab": {
   "collapsed_sections": [],
   "provenance": []
  },
  "kernelspec": {
   "name": "python3",
   "language": "python",
   "display_name": "Python 3 (ipykernel)"
  },
  "language_info": {
   "codemirror_mode": {
    "name": "ipython",
    "version": 3
   },
   "file_extension": ".py",
   "mimetype": "text/x-python",
   "name": "python",
   "nbconvert_exporter": "python",
   "pygments_lexer": "ipython3",
   "version": "3.8.10"
  }
 },
 "nbformat": 4,
 "nbformat_minor": 0
}
