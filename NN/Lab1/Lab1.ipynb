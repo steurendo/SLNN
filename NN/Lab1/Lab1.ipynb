{
 "nbformat": 4,
 "nbformat_minor": 0,
 "metadata": {
  "colab": {
   "name": "MNIST_ex1.ipynb",
   "provenance": [
    {
     "file_id": "15XkgU1c9QXy292Xu7szYg_35v1_fl5fu",
     "timestamp": 1571482920216
    }
   ],
   "private_outputs": true
  },
  "kernelspec": {
   "name": "python3",
   "language": "python",
   "display_name": "Python 3 (ipykernel)"
  },
  "accelerator": "GPU"
 },
 "cells": [
  {
   "cell_type": "markdown",
   "metadata": {
    "id": "AgaqxrCBIHWO",
    "colab_type": "text"
   },
   "source": [
    "# Digit recognition with a CNN"
   ]
  },
  {
   "cell_type": "markdown",
   "metadata": {
    "id": "qwPKXzBdsSai",
    "colab_type": "text"
   },
   "source": [
    "Code to initiliaze Tensorflow 2.0 in Colab"
   ]
  },
  {
   "cell_type": "code",
   "metadata": {
    "id": "4RHeyqF6rev2",
    "colab_type": "code",
    "colab": {},
    "ExecuteTime": {
     "end_time": "2023-12-07T11:29:19.688898100Z",
     "start_time": "2023-12-07T11:29:15.192822100Z"
    }
   },
   "source": [
    "from __future__ import absolute_import, division, print_function, unicode_literals\n",
    "import tensorflow as tf\n",
    "import datetime\n",
    "import numpy as np\n",
    "import matplotlib.pyplot as plt"
   ],
   "execution_count": 1,
   "outputs": [
    {
     "name": "stdout",
     "output_type": "stream",
     "text": [
      "WARNING:tensorflow:From C:\\Users\\steur\\PycharmProjects\\SLNN\\venv\\Lib\\site-packages\\keras\\src\\losses.py:2976: The name tf.losses.sparse_softmax_cross_entropy is deprecated. Please use tf.compat.v1.losses.sparse_softmax_cross_entropy instead.\n"
     ]
    }
   ]
  },
  {
   "cell_type": "markdown",
   "metadata": {
    "id": "WBmnWkSRslRb",
    "colab_type": "text"
   },
   "source": [
    "**Import the MNIST dataset. The default loader will return tensors for the train/test partitions of the images and the labels.**"
   ]
  },
  {
   "cell_type": "code",
   "metadata": {
    "id": "Aizfyvfms_nt",
    "colab_type": "code",
    "colab": {},
    "ExecuteTime": {
     "end_time": "2023-12-07T11:30:05.675872100Z",
     "start_time": "2023-12-07T11:30:05.140292500Z"
    }
   },
   "source": [
    "mnist = tf.keras.datasets.mnist\n",
    "(x_train, y_train), (x_test, y_test) = mnist.load_data()\n",
    "x_train = x_train[:,:,:,np.newaxis]/255.0\n",
    "x_test = x_test[:,:,:,np.newaxis]/255.0"
   ],
   "execution_count": 2,
   "outputs": []
  },
  {
   "cell_type": "markdown",
   "metadata": {
    "id": "_9TtiitutEm8",
    "colab_type": "text"
   },
   "source": [
    "**[TODO] Check the size of the loaded tensors**"
   ]
  },
  {
   "cell_type": "code",
   "metadata": {
    "id": "WlFW9kPUtpys",
    "colab_type": "code",
    "colab": {},
    "ExecuteTime": {
     "end_time": "2023-12-07T11:30:06.341246400Z",
     "start_time": "2023-12-07T11:30:06.333814500Z"
    }
   },
   "source": [
    "N = np.unique(y_train).shape[0]\n",
    "N_train = x_train.shape[0]\n",
    "N_test = x_test.shape[0]\n",
    "weight = x_train.shape[1]\n",
    "height = x_train.shape[2]\n",
    "print(f'Training set shape: {N_train}')\n",
    "print(f'Training labels shape: {y_train.shape}')\n",
    "print(f'Test set shape: {x_test.shape}')\n",
    "print(f'Test labels shape: {y_test.shape}')\n",
    "print(f'Number of classes: {N}')"
   ],
   "execution_count": 3,
   "outputs": [
    {
     "name": "stdout",
     "output_type": "stream",
     "text": [
      "Training set shape: 60000\n",
      "Training labels shape: (60000,)\n",
      "Test set shape: (10000, 28, 28, 1)\n",
      "Test labels shape: (10000,)\n",
      "Number of classes: 10\n"
     ]
    }
   ]
  },
  {
   "cell_type": "markdown",
   "metadata": {
    "id": "riIKsGjMK2KT",
    "colab_type": "text"
   },
   "source": [
    "**Prepare Keras callback for Tensorboard**"
   ]
  },
  {
   "cell_type": "code",
   "metadata": {
    "id": "Grf-GiJFK-sS",
    "colab_type": "code",
    "colab": {},
    "ExecuteTime": {
     "end_time": "2023-12-07T11:30:07.776219500Z",
     "start_time": "2023-12-07T11:30:07.753253300Z"
    }
   },
   "source": [
    "logdir = \"logs/scalars/\" + datetime.datetime.now().strftime(\"%Y%m%d-%H%M%S\")\n",
    "tensorboard_callback = tf.keras.callbacks.TensorBoard(log_dir=logdir, update_freq='batch')"
   ],
   "execution_count": 4,
   "outputs": []
  },
  {
   "cell_type": "markdown",
   "metadata": {
    "id": "IVlXyF_8xGsW",
    "colab_type": "text"
   },
   "source": [
    "**[TODO] Define a Keras Sequential model with the convolutional neural network**"
   ]
  },
  {
   "cell_type": "code",
   "metadata": {
    "id": "5C6JfgQNxf9P",
    "colab_type": "code",
    "colab": {},
    "ExecuteTime": {
     "end_time": "2023-12-07T11:30:09.407186600Z",
     "start_time": "2023-12-07T11:30:08.959127400Z"
    }
   },
   "source": [
    "inputs = tf.keras.Input(shape=(height, weight, 1))\n",
    "h = tf.keras.layers.Conv2D(32, (4, 4),\n",
    "                           activation='relu',\n",
    "                           # kernel_initializer=tf.keras.initializers.RandomNormal(mean=0.0, stddev=0.05, seed=None),\n",
    "                           kernel_regularizer=tf.keras.regularizers.l2(0.01))(inputs)\n",
    "h = tf.keras.layers.MaxPooling2D()(h)\n",
    "h = tf.keras.layers.Dropout(0.2)(h)\n",
    "h = tf.keras.layers.Conv2D(64, (4, 4),\n",
    "                           activation='relu',\n",
    "                           # kernel_initializer=tf.keras.initializers.RandomNormal(mean=0.0, stddev=0.05, seed=None),\n",
    "                           kernel_regularizer=tf.keras.regularizers.l2(0.01))(h)\n",
    "h = tf.keras.layers.MaxPooling2D()(h)\n",
    "h = tf.keras.layers.Dropout(0.2)(h)\n",
    "h = tf.keras.layers.Conv2D(64, (4, 4),\n",
    "                           activation='relu',\n",
    "                           # kernel_initializer=tf.keras.initializers.RandomNormal(mean=0.0, stddev=0.05, seed=None),\n",
    "                           kernel_regularizer=tf.keras.regularizers.l2(0.01))(h)\n",
    "h = tf.keras.layers.Dropout(0.2)(h)\n",
    "h = tf.keras.layers.Flatten()(h)\n",
    "outputs = tf.keras.layers.Dense(N, activation='softmax')(h)\n",
    "model = tf.keras.Model(inputs=inputs, outputs=outputs)"
   ],
   "execution_count": 5,
   "outputs": [
    {
     "name": "stdout",
     "output_type": "stream",
     "text": [
      "WARNING:tensorflow:From C:\\Users\\steur\\PycharmProjects\\SLNN\\venv\\Lib\\site-packages\\keras\\src\\backend.py:1398: The name tf.executing_eagerly_outside_functions is deprecated. Please use tf.compat.v1.executing_eagerly_outside_functions instead.\n",
      "WARNING:tensorflow:From C:\\Users\\steur\\PycharmProjects\\SLNN\\venv\\Lib\\site-packages\\keras\\src\\layers\\pooling\\max_pooling2d.py:161: The name tf.nn.max_pool is deprecated. Please use tf.nn.max_pool2d instead.\n"
     ]
    }
   ]
  },
  {
   "cell_type": "markdown",
   "metadata": {
    "id": "L5Arv2jyxgSz",
    "colab_type": "text"
   },
   "source": [
    "**[TODO] Compile the Keras model: specify the optimization algorithm, the loss function and the test metric**"
   ]
  },
  {
   "cell_type": "code",
   "metadata": {
    "id": "JM9_th7SxlmM",
    "colab_type": "code",
    "colab": {},
    "ExecuteTime": {
     "end_time": "2023-12-07T11:30:11.377597200Z",
     "start_time": "2023-12-07T11:30:11.350057400Z"
    }
   },
   "source": [
    "model.compile(optimizer=tf.keras.optimizers.Adam(0.01), loss='sparse_categorical_crossentropy', metrics=['accuracy'])"
   ],
   "execution_count": 6,
   "outputs": []
  },
  {
   "cell_type": "markdown",
   "metadata": {
    "id": "wgY8SK7MxmBE",
    "colab_type": "text"
   },
   "source": [
    "**[TODO] Train the Keras model**"
   ]
  },
  {
   "cell_type": "code",
   "metadata": {
    "id": "H8-x6iwSxqqM",
    "colab_type": "code",
    "colab": {},
    "ExecuteTime": {
     "end_time": "2023-12-07T11:31:54.743930500Z",
     "start_time": "2023-12-07T11:30:12.762615900Z"
    }
   },
   "source": [
    "model.fit(x_train, y_train, batch_size=64, epochs=6)"
   ],
   "execution_count": 7,
   "outputs": [
    {
     "name": "stdout",
     "output_type": "stream",
     "text": [
      "Epoch 1/6\n",
      "WARNING:tensorflow:From C:\\Users\\steur\\PycharmProjects\\SLNN\\venv\\Lib\\site-packages\\keras\\src\\utils\\tf_utils.py:492: The name tf.ragged.RaggedTensorValue is deprecated. Please use tf.compat.v1.ragged.RaggedTensorValue instead.\n",
      "WARNING:tensorflow:From C:\\Users\\steur\\PycharmProjects\\SLNN\\venv\\Lib\\site-packages\\keras\\src\\engine\\base_layer_utils.py:384: The name tf.executing_eagerly_outside_functions is deprecated. Please use tf.compat.v1.executing_eagerly_outside_functions instead.\n",
      "938/938 [==============================] - 16s 16ms/step - loss: 0.7370 - accuracy: 0.8825\n",
      "Epoch 2/6\n",
      "938/938 [==============================] - 17s 18ms/step - loss: 0.6159 - accuracy: 0.9111\n",
      "Epoch 3/6\n",
      "938/938 [==============================] - 17s 18ms/step - loss: 0.5947 - accuracy: 0.9134\n",
      "Epoch 4/6\n",
      "938/938 [==============================] - 17s 18ms/step - loss: 0.5819 - accuracy: 0.9158\n",
      "Epoch 5/6\n",
      "938/938 [==============================] - 17s 18ms/step - loss: 0.5841 - accuracy: 0.9149\n",
      "Epoch 6/6\n",
      "938/938 [==============================] - 18s 19ms/step - loss: 0.5702 - accuracy: 0.9168\n"
     ]
    },
    {
     "data": {
      "text/plain": "<keras.src.callbacks.History at 0x186af7e1690>"
     },
     "execution_count": 7,
     "metadata": {},
     "output_type": "execute_result"
    }
   ]
  },
  {
   "cell_type": "markdown",
   "metadata": {
    "id": "0QhCHMnVFWv3",
    "colab_type": "text"
   },
   "source": [
    "**[TODO] Print model summary**"
   ]
  },
  {
   "cell_type": "code",
   "metadata": {
    "id": "VqTgD3xRFaJN",
    "colab_type": "code",
    "colab": {},
    "ExecuteTime": {
     "end_time": "2023-12-02T18:27:34.934230800Z",
     "start_time": "2023-12-02T18:27:34.934230800Z"
    }
   },
   "source": [
    "print(model.summary())"
   ],
   "execution_count": null,
   "outputs": []
  },
  {
   "cell_type": "markdown",
   "metadata": {
    "id": "Uva5AeZrxrf0",
    "colab_type": "text"
   },
   "source": [
    "**[TODO] Test the Keras model by computing the accuracy the whole test set**"
   ]
  },
  {
   "cell_type": "code",
   "metadata": {
    "id": "5536AAv7x1Al",
    "colab_type": "code",
    "colab": {},
    "ExecuteTime": {
     "end_time": "2023-12-07T11:32:23.747084200Z",
     "start_time": "2023-12-07T11:32:22.329992300Z"
    }
   },
   "source": [
    "model.evaluate(x_test, y_test)"
   ],
   "execution_count": 8,
   "outputs": [
    {
     "name": "stdout",
     "output_type": "stream",
     "text": [
      "313/313 [==============================] - 1s 4ms/step - loss: 0.4425 - accuracy: 0.9625\n"
     ]
    },
    {
     "data": {
      "text/plain": "[0.44250059127807617, 0.9624999761581421]"
     },
     "execution_count": 8,
     "metadata": {},
     "output_type": "execute_result"
    }
   ]
  },
  {
   "cell_type": "markdown",
   "metadata": {
    "id": "TJe4IZYfGxh9",
    "colab_type": "text"
   },
   "source": [
    "**[TODO] Visualize test image number 47 and the prediction from the neural network**"
   ]
  },
  {
   "cell_type": "code",
   "metadata": {
    "id": "6233HLAIG98R",
    "colab_type": "code",
    "colab": {},
    "ExecuteTime": {
     "end_time": "2023-12-07T11:55:30.639527100Z",
     "start_time": "2023-12-07T11:55:30.593598100Z"
    }
   },
   "source": [
    "# Showing the image\n",
    "img_number = 47\n",
    "plt.figure(figsize=(5, 5))\n",
    "plt.imshow(x_test[img_number])\n",
    "plt.axis('off')\n",
    "plt.show()"
   ],
   "execution_count": 45,
   "outputs": [
    {
     "data": {
      "text/plain": "<Figure size 500x500 with 1 Axes>",
      "image/png": "[encoded data removed]"
     },
     "metadata": {},
     "output_type": "display_data"
    }
   ]
  },
  {
   "cell_type": "code",
   "execution_count": 46,
   "outputs": [
    {
     "name": "stdout",
     "output_type": "stream",
     "text": [
      "1/1 [==============================] - 0s 25ms/step\n",
      "In the image there's the number: 2\n"
     ]
    }
   ],
   "source": [
    "# Predicting the image's class\n",
    "oh_label = model.predict(np.array([x_test[img_number]]))\n",
    "y_hat = np.argmax(oh_label)\n",
    "print(f'In the image there\\'s the number: {y_hat}')"
   ],
   "metadata": {
    "collapsed": false,
    "ExecuteTime": {
     "end_time": "2023-12-07T11:55:31.118916100Z",
     "start_time": "2023-12-07T11:55:31.047539100Z"
    }
   }
  },
  {
   "cell_type": "code",
   "execution_count": null,
   "outputs": [],
   "source": [],
   "metadata": {
    "collapsed": false
   }
  }
 ]
}
