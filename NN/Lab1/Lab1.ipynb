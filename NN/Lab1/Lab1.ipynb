{
 "nbformat": 4,
 "nbformat_minor": 0,
 "metadata": {
  "colab": {
   "name": "MNIST_ex1.ipynb",
   "provenance": [
    {
     "file_id": "15XkgU1c9QXy292Xu7szYg_35v1_fl5fu",
     "timestamp": 1571482920216
    }
   ],
   "private_outputs": true
  },
  "kernelspec": {
   "name": "python3",
   "language": "python",
   "display_name": "Python 3 (ipykernel)"
  },
  "accelerator": "GPU"
 },
 "cells": [
  {
   "cell_type": "markdown",
   "metadata": {
    "id": "AgaqxrCBIHWO",
    "colab_type": "text"
   },
   "source": [
    "# Digit recognition with a CNN"
   ]
  },
  {
   "cell_type": "markdown",
   "metadata": {
    "id": "qwPKXzBdsSai",
    "colab_type": "text"
   },
   "source": [
    "Code to initiliaze Tensorflow 2.0 in Colab"
   ]
  },
  {
   "cell_type": "code",
   "metadata": {
    "id": "4RHeyqF6rev2",
    "colab_type": "code",
    "colab": {},
    "ExecuteTime": {
     "end_time": "2024-01-09T17:06:18.518356500Z",
     "start_time": "2024-01-09T17:06:18.492834900Z"
    }
   },
   "source": [
    "from __future__ import absolute_import, division, print_function, unicode_literals\n",
    "import tensorflow as tf\n",
    "import datetime\n",
    "import numpy as np\n",
    "import matplotlib.pyplot as plt\n",
    "%load_ext tensorboard"
   ],
   "execution_count": 15,
   "outputs": []
  },
  {
   "cell_type": "markdown",
   "metadata": {
    "id": "WBmnWkSRslRb",
    "colab_type": "text"
   },
   "source": [
    "**Import the MNIST dataset. The default loader will return tensors for the train/test partitions of the images and the labels.**"
   ]
  },
  {
   "cell_type": "code",
   "metadata": {
    "id": "Aizfyvfms_nt",
    "colab_type": "code",
    "colab": {},
    "ExecuteTime": {
     "end_time": "2024-01-09T16:59:20.552232800Z",
     "start_time": "2024-01-09T16:59:20.182355500Z"
    }
   },
   "source": [
    "mnist = tf.keras.datasets.mnist\n",
    "(x_train, y_train), (x_test, y_test) = mnist.load_data()\n",
    "x_train = x_train[:, :, :, np.newaxis] / 255.0\n",
    "x_test = x_test[:, :, :, np.newaxis] / 255.0"
   ],
   "execution_count": 2,
   "outputs": []
  },
  {
   "cell_type": "markdown",
   "metadata": {
    "id": "_9TtiitutEm8",
    "colab_type": "text"
   },
   "source": [
    "**[TODO] Check the size of the loaded tensors**"
   ]
  },
  {
   "cell_type": "code",
   "metadata": {
    "id": "WlFW9kPUtpys",
    "colab_type": "code",
    "colab": {},
    "ExecuteTime": {
     "end_time": "2024-01-09T16:59:21.215364200Z",
     "start_time": "2024-01-09T16:59:21.200362400Z"
    }
   },
   "source": [
    "N = np.unique(y_train).shape[0]\n",
    "N_train = x_train.shape[0]\n",
    "N_test = x_test.shape[0]\n",
    "weight = x_train.shape[1]\n",
    "height = x_train.shape[2]\n",
    "print(f'Training set shape: {N_train}')\n",
    "print(f'Training labels shape: {y_train.shape}')\n",
    "print(f'Test set shape: {x_test.shape}')\n",
    "print(f'Test labels shape: {y_test.shape}')\n",
    "print(f'Number of classes: {N}')"
   ],
   "execution_count": 3,
   "outputs": [
    {
     "name": "stdout",
     "output_type": "stream",
     "text": [
      "Training set shape: 60000\n",
      "Training labels shape: (60000,)\n",
      "Test set shape: (10000, 28, 28, 1)\n",
      "Test labels shape: (10000,)\n",
      "Number of classes: 10\n"
     ]
    }
   ]
  },
  {
   "cell_type": "markdown",
   "metadata": {
    "id": "riIKsGjMK2KT",
    "colab_type": "text"
   },
   "source": [
    "**Prepare Keras callback for Tensorboard**"
   ]
  },
  {
   "cell_type": "code",
   "metadata": {
    "id": "Grf-GiJFK-sS",
    "colab_type": "code",
    "colab": {},
    "ExecuteTime": {
     "end_time": "2024-01-09T17:15:45.798794100Z",
     "start_time": "2024-01-09T17:15:45.783691100Z"
    }
   },
   "source": [
    "logdir = \"logs/fit/\" + datetime.datetime.now().strftime(\"%Y%m%d-%H%M%S\")\n",
    "tensorboard_callback = tf.keras.callbacks.TensorBoard(log_dir=logdir, update_freq='batch')"
   ],
   "execution_count": 33,
   "outputs": []
  },
  {
   "cell_type": "markdown",
   "metadata": {
    "id": "IVlXyF_8xGsW",
    "colab_type": "text"
   },
   "source": [
    "**[TODO] Define a Keras Sequential model with the convolutional neural network**"
   ]
  },
  {
   "cell_type": "code",
   "outputs": [],
   "source": [
    "def conv_layer(features, stride, kernel_size=3, k_regularizer=None):\n",
    "    return tf.keras.layers.Conv2D(features,\n",
    "                                  kernel_size=kernel_size,\n",
    "                                  strides=(stride, stride),\n",
    "                                  padding='same',\n",
    "                                  kernel_regularizer=k_regularizer\n",
    "                                  )"
   ],
   "metadata": {
    "collapsed": false,
    "ExecuteTime": {
     "end_time": "2024-01-09T17:15:46.688211900Z",
     "start_time": "2024-01-09T17:15:46.670184800Z"
    }
   },
   "execution_count": 34
  },
  {
   "cell_type": "code",
   "outputs": [],
   "source": [
    "# Clearing previous model\n",
    "tf.keras.backend.clear_session()\n",
    "# Building model\n",
    "model = tf.keras.models.Sequential([\n",
    "    conv_layer(32, kernel_size=5, stride=2),\n",
    "    tf.keras.layers.BatchNormalization(),\n",
    "    tf.keras.layers.Activation('relu'),\n",
    "    conv_layer(64, kernel_size=5, stride=2),\n",
    "    tf.keras.layers.BatchNormalization(),\n",
    "    tf.keras.layers.Activation('relu'),\n",
    "    tf.keras.layers.Flatten(),\n",
    "    tf.keras.layers.Dense(N, activation='softmax')\n",
    "])"
   ],
   "metadata": {
    "collapsed": false,
    "ExecuteTime": {
     "end_time": "2024-01-09T17:15:47.207045900Z",
     "start_time": "2024-01-09T17:15:47.175670700Z"
    }
   },
   "execution_count": 35
  },
  {
   "cell_type": "markdown",
   "metadata": {
    "id": "L5Arv2jyxgSz",
    "colab_type": "text"
   },
   "source": [
    "**[TODO] Compile the Keras model: specify the optimization algorithm, the loss function and the test metric**"
   ]
  },
  {
   "cell_type": "code",
   "metadata": {
    "id": "JM9_th7SxlmM",
    "colab_type": "code",
    "colab": {},
    "ExecuteTime": {
     "end_time": "2024-01-09T17:15:48.901095300Z",
     "start_time": "2024-01-09T17:15:48.880024400Z"
    }
   },
   "source": [
    "model.compile(optimizer=tf.keras.optimizers.Adam(0.01), loss='sparse_categorical_crossentropy', metrics=['accuracy'])"
   ],
   "execution_count": 36,
   "outputs": []
  },
  {
   "cell_type": "markdown",
   "metadata": {
    "id": "wgY8SK7MxmBE",
    "colab_type": "text"
   },
   "source": [
    "**[TODO] Train the Keras model**"
   ]
  },
  {
   "cell_type": "code",
   "outputs": [
    {
     "name": "stdout",
     "output_type": "stream",
     "text": [
      "Epoch 1/3\n",
      "938/938 [==============================] - 5s 5ms/step - loss: 0.1948 - accuracy: 0.9534 - val_loss: 0.0647 - val_accuracy: 0.9790\n",
      "Epoch 2/3\n",
      "938/938 [==============================] - 4s 4ms/step - loss: 0.0561 - accuracy: 0.9834 - val_loss: 0.0522 - val_accuracy: 0.9830\n",
      "Epoch 3/3\n",
      "938/938 [==============================] - 4s 4ms/step - loss: 0.0437 - accuracy: 0.9863 - val_loss: 0.0526 - val_accuracy: 0.9836\n"
     ]
    },
    {
     "data": {
      "text/plain": "<keras.callbacks.History at 0x22b9d02da30>"
     },
     "execution_count": 37,
     "metadata": {},
     "output_type": "execute_result"
    }
   ],
   "source": [
    "model.fit(x_train, y_train, batch_size=64, epochs=3, validation_data=(x_test, y_test), callbacks=[tensorboard_callback])"
   ],
   "metadata": {
    "collapsed": false,
    "ExecuteTime": {
     "end_time": "2024-01-09T17:16:08.416367Z",
     "start_time": "2024-01-09T17:15:54.691575700Z"
    }
   },
   "execution_count": 37
  },
  {
   "cell_type": "code",
   "metadata": {
    "id": "H8-x6iwSxqqM",
    "colab_type": "code",
    "colab": {},
    "ExecuteTime": {
     "end_time": "2024-01-09T17:16:17.622758800Z",
     "start_time": "2024-01-09T17:16:09.843091100Z"
    }
   },
   "source": [
    "model.fit(x_train, y_train, batch_size=256, epochs=3, validation_data=(x_test, y_test), callbacks=[tensorboard_callback])"
   ],
   "execution_count": 38,
   "outputs": [
    {
     "name": "stdout",
     "output_type": "stream",
     "text": [
      "Epoch 1/3\n",
      "235/235 [==============================] - 3s 14ms/step - loss: 0.0166 - accuracy: 0.9949 - val_loss: 0.0255 - val_accuracy: 0.9921\n",
      "Epoch 2/3\n",
      "235/235 [==============================] - 2s 8ms/step - loss: 0.0085 - accuracy: 0.9978 - val_loss: 0.0260 - val_accuracy: 0.9923\n",
      "Epoch 3/3\n",
      "235/235 [==============================] - 2s 8ms/step - loss: 0.0055 - accuracy: 0.9985 - val_loss: 0.0291 - val_accuracy: 0.9911\n"
     ]
    },
    {
     "data": {
      "text/plain": "<keras.callbacks.History at 0x22b9d4baa30>"
     },
     "execution_count": 38,
     "metadata": {},
     "output_type": "execute_result"
    }
   ]
  },
  {
   "cell_type": "code",
   "outputs": [
    {
     "name": "stdout",
     "output_type": "stream",
     "text": [
      "Tensorboard informations at: http://localhost:6006\n"
     ]
    },
    {
     "data": {
      "text/plain": "Launching TensorBoard..."
     },
     "metadata": {},
     "output_type": "display_data"
    },
    {
     "data": {
      "text/plain": "<IPython.core.display.HTML object>",
      "text/html": "\n      <iframe id=\"tensorboard-frame-e086a16a3743d6b5\" width=\"100%\" height=\"800\" frameborder=\"0\">\n      </iframe>\n      <script>\n        (function() {\n          const frame = document.getElementById(\"tensorboard-frame-e086a16a3743d6b5\");\n          const url = new URL(\"/\", window.location);\n          const port = 6006;\n          if (port) {\n            url.port = port;\n          }\n          frame.src = url;\n        })();\n      </script>\n    "
     },
     "metadata": {},
     "output_type": "display_data"
    }
   ],
   "source": [
    "print('Tensorboard informations at: http://localhost:6006')\n",
    "%tensorboard --logdir logs/fit"
   ],
   "metadata": {
    "collapsed": false,
    "ExecuteTime": {
     "end_time": "2024-01-09T17:21:21.984878800Z",
     "start_time": "2024-01-09T17:21:21.961297Z"
    }
   },
   "execution_count": 41
  },
  {
   "cell_type": "markdown",
   "metadata": {
    "id": "0QhCHMnVFWv3",
    "colab_type": "text"
   },
   "source": [
    "**[TODO] Print model summary**"
   ]
  },
  {
   "cell_type": "code",
   "metadata": {
    "id": "VqTgD3xRFaJN",
    "colab_type": "code",
    "colab": {},
    "ExecuteTime": {
     "end_time": "2024-01-09T17:22:08.674309900Z",
     "start_time": "2024-01-09T17:22:08.641012600Z"
    }
   },
   "source": [
    "print(model.summary())"
   ],
   "execution_count": 42,
   "outputs": [
    {
     "name": "stdout",
     "output_type": "stream",
     "text": [
      "Model: \"sequential\"\n",
      "_________________________________________________________________\n",
      " Layer (type)                Output Shape              Param #   \n",
      "=================================================================\n",
      " conv2d (Conv2D)             (None, 14, 14, 32)        832       \n",
      "                                                                 \n",
      " batch_normalization (BatchN  (None, 14, 14, 32)       128       \n",
      " ormalization)                                                   \n",
      "                                                                 \n",
      " activation (Activation)     (None, 14, 14, 32)        0         \n",
      "                                                                 \n",
      " conv2d_1 (Conv2D)           (None, 7, 7, 64)          51264     \n",
      "                                                                 \n",
      " batch_normalization_1 (Batc  (None, 7, 7, 64)         256       \n",
      " hNormalization)                                                 \n",
      "                                                                 \n",
      " activation_1 (Activation)   (None, 7, 7, 64)          0         \n",
      "                                                                 \n",
      " flatten (Flatten)           (None, 3136)              0         \n",
      "                                                                 \n",
      " dense (Dense)               (None, 10)                31370     \n",
      "                                                                 \n",
      "=================================================================\n",
      "Total params: 83,850\n",
      "Trainable params: 83,658\n",
      "Non-trainable params: 192\n",
      "_________________________________________________________________\n",
      "None\n"
     ]
    }
   ]
  },
  {
   "cell_type": "markdown",
   "metadata": {
    "id": "Uva5AeZrxrf0",
    "colab_type": "text"
   },
   "source": [
    "**[TODO] Test the Keras model by computing the accuracy the whole test set**"
   ]
  },
  {
   "cell_type": "code",
   "metadata": {
    "id": "5536AAv7x1Al",
    "colab_type": "code",
    "colab": {},
    "ExecuteTime": {
     "end_time": "2024-01-09T17:22:10.902512600Z",
     "start_time": "2024-01-09T17:22:09.795418900Z"
    }
   },
   "source": [
    "model.evaluate(x_test, y_test)"
   ],
   "execution_count": 43,
   "outputs": [
    {
     "name": "stdout",
     "output_type": "stream",
     "text": [
      "313/313 [==============================] - 1s 3ms/step - loss: 0.0291 - accuracy: 0.9911\n"
     ]
    },
    {
     "data": {
      "text/plain": "[0.029051464051008224, 0.991100013256073]"
     },
     "execution_count": 43,
     "metadata": {},
     "output_type": "execute_result"
    }
   ]
  },
  {
   "cell_type": "markdown",
   "metadata": {
    "id": "TJe4IZYfGxh9",
    "colab_type": "text"
   },
   "source": [
    "**[TODO] Visualize test image number 47 and the prediction from the neural network**"
   ]
  },
  {
   "cell_type": "code",
   "metadata": {
    "id": "6233HLAIG98R",
    "colab_type": "code",
    "colab": {},
    "ExecuteTime": {
     "end_time": "2024-01-09T16:58:41.594577500Z",
     "start_time": "2024-01-09T16:58:41.491971400Z"
    }
   },
   "source": [
    "# Showing the image\n",
    "img_number = 45\n",
    "plt.figure(figsize=(5, 5))\n",
    "plt.imshow(x_test[img_number])\n",
    "plt.axis('off')\n",
    "plt.show()"
   ],
   "execution_count": 26,
   "outputs": [
    {
     "data": {
      "text/plain": "<Figure size 500x500 with 1 Axes>",
      "image/png": "[encoded data removed]"
     },
     "metadata": {},
     "output_type": "display_data"
    }
   ]
  },
  {
   "cell_type": "code",
   "execution_count": 27,
   "outputs": [
    {
     "name": "stdout",
     "output_type": "stream",
     "text": [
      "1/1 [==============================] - 0s 235ms/step\n",
      "In the image there's the number: 5\n"
     ]
    }
   ],
   "source": [
    "# Predicting the image's class\n",
    "oh_label = model.predict(np.array([x_test[img_number]]))\n",
    "y_hat = np.argmax(oh_label)\n",
    "print(f'In the image there\\'s the number: {y_hat}')"
   ],
   "metadata": {
    "collapsed": false,
    "ExecuteTime": {
     "end_time": "2024-01-09T16:58:45.614341500Z",
     "start_time": "2024-01-09T16:58:45.328559900Z"
    }
   }
  },
  {
   "cell_type": "code",
   "execution_count": null,
   "outputs": [],
   "source": [],
   "metadata": {
    "collapsed": false
   }
  }
 ]
}
