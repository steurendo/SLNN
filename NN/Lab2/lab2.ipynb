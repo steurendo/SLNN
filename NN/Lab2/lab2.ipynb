{
 "cells": [
  {
   "cell_type": "markdown",
   "metadata": {
    "colab_type": "text",
    "id": "AgaqxrCBIHWO"
   },
   "source": [
    "# Transfer learning - Cats vs. Dogs"
   ]
  },
  {
   "cell_type": "markdown",
   "metadata": {
    "colab_type": "text",
    "id": "qwPKXzBdsSai"
   },
   "source": [
    "Code to initiliaze Tensorflow 2.0 in Colab"
   ]
  },
  {
   "cell_type": "code",
   "execution_count": 1,
   "metadata": {
    "colab": {},
    "colab_type": "code",
    "id": "4RHeyqF6rev2",
    "ExecuteTime": {
     "end_time": "2023-12-07T10:35:46.374313100Z",
     "start_time": "2023-12-07T10:35:25.721765500Z"
    }
   },
   "outputs": [
    {
     "name": "stdout",
     "output_type": "stream",
     "text": [
      "WARNING:tensorflow:From C:\\Users\\steur\\PycharmProjects\\SLNN\\venv\\Lib\\site-packages\\keras\\src\\losses.py:2976: The name tf.losses.sparse_softmax_cross_entropy is deprecated. Please use tf.compat.v1.losses.sparse_softmax_cross_entropy instead.\n"
     ]
    }
   ],
   "source": [
    "from __future__ import absolute_import, division, print_function, unicode_literals\n",
    "import tensorflow as tf\n",
    "import datetime\n",
    "import numpy as np\n",
    "import matplotlib.pyplot as plt\n",
    "import os"
   ]
  },
  {
   "cell_type": "markdown",
   "metadata": {
    "colab_type": "text",
    "id": "_9TtiitutEm8"
   },
   "source": [
    "**[TODO] Create a data loader function that returns a tuple with a tf.float32 tensor for the image and a label. Images must be resized to 128x128.**\n",
    "**N.B.: filenames are formatted as class.number.jpg**"
   ]
  },
  {
   "cell_type": "code",
   "execution_count": 82,
   "outputs": [],
   "source": [
    "def load_image(img_path, resize_to=None):\n",
    "    # read the image from disk, decode it, convert the data type to\n",
    "    # floating point, and resize it\n",
    "    image = tf.io.read_file(img_path)\n",
    "    image = tf.image.decode_jpeg(image, channels=3)\n",
    "    image = tf.image.convert_image_dtype(image, dtype=tf.float32)\n",
    "    if resize_to is not None:\n",
    "        image = tf.image.resize(image, resize_to, method=tf.image.ResizeMethod.AREA)\n",
    "        # image = tf.image.resize_with_crop_or_pad(image, resize_to)\n",
    "    # parse the class label from the file path\n",
    "    fn_img = tf.strings.split(img_path, sep='/')[-1]\n",
    "    label = tf.strings.split(fn_img, sep='.')[0]\n",
    "    label = tf.strings.to_number(label, tf.float32)\n",
    "\n",
    "    # return the image and the label\n",
    "    return image, label\n",
    "\n",
    "def load_dataset(folder):\n",
    "    features_list = []\n",
    "    labels_list = []\n",
    "    for filename in os.listdir(folder):\n",
    "        if filename.endswith('.jpg'):\n",
    "            filepath = os.path.join(folder, filename)\n",
    "            features, label = load_image(filepath, resize_to=(128, 128))\n",
    "            features_list.append(features)\n",
    "            labels_list.append(label)\n",
    "    ds_features = tf.data.Dataset.from_tensor_slices(features_list)\n",
    "    ds_labels = tf.data.Dataset.from_tensor_slices(labels_list)\n",
    "    return tf.data.Dataset.zip((ds_features, ds_labels))"
   ],
   "metadata": {
    "collapsed": false,
    "ExecuteTime": {
     "end_time": "2023-12-07T11:06:42.012799500Z",
     "start_time": "2023-12-07T11:06:41.980023900Z"
    }
   }
  },
  {
   "cell_type": "markdown",
   "metadata": {
    "colab_type": "text",
    "id": "KYbzGd5rcyeN"
   },
   "source": [
    "**[TODO] Create a tf.Dataset, map the loader function and prepare a batch object for training**"
   ]
  },
  {
   "cell_type": "code",
   "execution_count": 3,
   "metadata": {
    "colab": {},
    "colab_type": "code",
    "id": "PvP9ga5RcyB-",
    "ExecuteTime": {
     "end_time": "2023-12-07T10:37:10.570532100Z",
     "start_time": "2023-12-07T10:35:53.658727200Z"
    }
   },
   "outputs": [],
   "source": [
    "# Datasets creation\n",
    "# 0 -> cats; 1 -> dogs\n",
    "ds_train = load_dataset('./train/')\n",
    "ds_test = load_dataset('./test/')"
   ]
  },
  {
   "cell_type": "code",
   "execution_count": 8,
   "outputs": [],
   "source": [
    "# Batch preparation\n",
    "ds_train = ds_train.batch(batch_size=32)\n",
    "# ds_train = ds_train.shuffle(128)\n",
    "ds_test = ds_test.batch(batch_size=32)\n",
    "# ds_test = ds_test.shuffle(128)"
   ],
   "metadata": {
    "collapsed": false,
    "ExecuteTime": {
     "end_time": "2023-12-07T10:38:19.684187600Z",
     "start_time": "2023-12-07T10:38:19.622757800Z"
    }
   }
  },
  {
   "cell_type": "markdown",
   "metadata": {
    "colab_type": "text",
    "id": "riIKsGjMK2KT"
   },
   "source": [
    "**Prepare Keras callback for Tensorboard**"
   ]
  },
  {
   "cell_type": "code",
   "execution_count": 9,
   "metadata": {
    "colab": {},
    "colab_type": "code",
    "id": "Grf-GiJFK-sS",
    "ExecuteTime": {
     "end_time": "2023-12-07T10:38:21.570881500Z",
     "start_time": "2023-12-07T10:38:21.542743700Z"
    }
   },
   "outputs": [],
   "source": [
    "logdir = \"logs/scalars/\" + datetime.datetime.now().strftime(\"%Y%m%d-%H%M%S\")\n",
    "tensorboard_callback = tf.keras.callbacks.TensorBoard(log_dir=logdir, update_freq='batch')"
   ]
  },
  {
   "cell_type": "markdown",
   "metadata": {
    "colab_type": "text",
    "id": "IVlXyF_8xGsW"
   },
   "source": [
    "**[TODO] Import the MobileNetV2 model trained on ImageNet without the final layer**"
   ]
  },
  {
   "cell_type": "code",
   "execution_count": 10,
   "metadata": {
    "colab": {},
    "colab_type": "code",
    "id": "5C6JfgQNxf9P",
    "ExecuteTime": {
     "end_time": "2023-12-07T10:38:25.498700700Z",
     "start_time": "2023-12-07T10:38:23.144530900Z"
    }
   },
   "outputs": [],
   "source": [
    "mnv2 = tf.keras.applications.mobilenet_v2.MobileNetV2(input_shape=(128, 128, 3), include_top=False, classes=2)\n",
    "mnv2.trainable = False"
   ]
  },
  {
   "cell_type": "markdown",
   "metadata": {
    "colab_type": "text",
    "id": "7R4fFS0HcX-t"
   },
   "source": [
    "**[TODO] Add a final classification layer for 2 classes and create the final Keras model**"
   ]
  },
  {
   "cell_type": "code",
   "execution_count": 11,
   "metadata": {
    "colab": {},
    "colab_type": "code",
    "id": "GDvBDCVFcXmo",
    "ExecuteTime": {
     "end_time": "2023-12-07T10:38:26.050864800Z",
     "start_time": "2023-12-07T10:38:25.498700700Z"
    }
   },
   "outputs": [],
   "source": [
    "inputs = tf.keras.Input(shape=(128, 128, 3))\n",
    "h = mnv2(inputs, training=False)\n",
    "# h = tf.keras.layers.GlobalAveragePooling2D()(h)\n",
    "h = tf.keras.layers.Flatten()(h)\n",
    "# h = tf.keras.layers.Dropout(0.2)(h)\n",
    "classifier = tf.keras.layers.Dense(2, activation='softmax')(h)"
   ]
  },
  {
   "cell_type": "markdown",
   "metadata": {
    "colab_type": "text",
    "id": "L5Arv2jyxgSz"
   },
   "source": [
    "**[TODO] Compile the Keras model: specify the optimization algorithm, the loss function and the test metric**"
   ]
  },
  {
   "cell_type": "code",
   "execution_count": 12,
   "metadata": {
    "colab": {},
    "colab_type": "code",
    "id": "JM9_th7SxlmM",
    "ExecuteTime": {
     "end_time": "2023-12-07T10:38:27.359972300Z",
     "start_time": "2023-12-07T10:38:27.275571500Z"
    }
   },
   "outputs": [],
   "source": [
    "model = tf.keras.Model(inputs=inputs, outputs=classifier)\n",
    "model.compile(optimizer=tf.keras.optimizers.Adam(0.01), loss='sparse_categorical_crossentropy', metrics=['accuracy'])"
   ]
  },
  {
   "cell_type": "markdown",
   "metadata": {
    "colab_type": "text",
    "id": "wgY8SK7MxmBE"
   },
   "source": [
    "**[TODO] Train the Keras model**"
   ]
  },
  {
   "cell_type": "code",
   "execution_count": 13,
   "metadata": {
    "colab": {},
    "colab_type": "code",
    "id": "H8-x6iwSxqqM",
    "ExecuteTime": {
     "end_time": "2023-12-07T10:39:54.561686400Z",
     "start_time": "2023-12-07T10:38:28.950536Z"
    }
   },
   "outputs": [
    {
     "name": "stdout",
     "output_type": "stream",
     "text": [
      "Epoch 1/6\n",
      "WARNING:tensorflow:From C:\\Users\\steur\\PycharmProjects\\SLNN\\venv\\Lib\\site-packages\\keras\\src\\utils\\tf_utils.py:492: The name tf.ragged.RaggedTensorValue is deprecated. Please use tf.compat.v1.ragged.RaggedTensorValue instead.\n",
      "WARNING:tensorflow:From C:\\Users\\steur\\PycharmProjects\\SLNN\\venv\\Lib\\site-packages\\keras\\src\\engine\\base_layer_utils.py:384: The name tf.executing_eagerly_outside_functions is deprecated. Please use tf.compat.v1.executing_eagerly_outside_functions instead.\n",
      "63/63 [==============================] - 17s 202ms/step - loss: 59.3738 - accuracy: 0.8745\n",
      "Epoch 2/6\n",
      "63/63 [==============================] - 13s 199ms/step - loss: 228.6618 - accuracy: 0.7015\n",
      "Epoch 3/6\n",
      "63/63 [==============================] - 13s 213ms/step - loss: 33.3714 - accuracy: 0.9105\n",
      "Epoch 4/6\n",
      "63/63 [==============================] - 14s 226ms/step - loss: 10.8768 - accuracy: 0.9550\n",
      "Epoch 5/6\n",
      "63/63 [==============================] - 14s 220ms/step - loss: 6.0838 - accuracy: 0.9695\n",
      "Epoch 6/6\n",
      "63/63 [==============================] - 14s 223ms/step - loss: 3.6251 - accuracy: 0.9765\n"
     ]
    },
    {
     "data": {
      "text/plain": "<keras.src.callbacks.History at 0x29a74dd7790>"
     },
     "execution_count": 13,
     "metadata": {},
     "output_type": "execute_result"
    }
   ],
   "source": [
    "model.fit(ds_train, epochs=6)"
   ]
  },
  {
   "cell_type": "markdown",
   "metadata": {
    "colab_type": "text",
    "id": "0QhCHMnVFWv3"
   },
   "source": [
    "**[TODO] Print model summary**"
   ]
  },
  {
   "cell_type": "code",
   "execution_count": 14,
   "metadata": {
    "colab": {},
    "colab_type": "code",
    "id": "VqTgD3xRFaJN",
    "ExecuteTime": {
     "end_time": "2023-12-07T10:40:01.167212300Z",
     "start_time": "2023-12-07T10:40:00.994816600Z"
    }
   },
   "outputs": [
    {
     "name": "stdout",
     "output_type": "stream",
     "text": [
      "Model: \"model_1\"\n",
      "_________________________________________________________________\n",
      " Layer (type)                Output Shape              Param #   \n",
      "=================================================================\n",
      " input_4 (InputLayer)        [(None, 128, 128, 3)]     0         \n",
      "                                                                 \n",
      " mobilenetv2_1.00_128 (Func  (None, 4, 4, 1280)        2257984   \n",
      " tional)                                                         \n",
      "                                                                 \n",
      " flatten_1 (Flatten)         (None, 20480)             0         \n",
      "                                                                 \n",
      " dense_1 (Dense)             (None, 2)                 40962     \n",
      "                                                                 \n",
      "=================================================================\n",
      "Total params: 2298946 (8.77 MB)\n",
      "Trainable params: 40962 (160.01 KB)\n",
      "Non-trainable params: 2257984 (8.61 MB)\n",
      "_________________________________________________________________\n",
      "None\n"
     ]
    }
   ],
   "source": [
    "print(model.summary())"
   ]
  },
  {
   "cell_type": "markdown",
   "metadata": {
    "colab_type": "text",
    "id": "Uva5AeZrxrf0"
   },
   "source": [
    "**[TODO] Test the Keras model by computing the accuracy the whole test set**"
   ]
  },
  {
   "cell_type": "code",
   "execution_count": 15,
   "metadata": {
    "colab": {},
    "colab_type": "code",
    "id": "5536AAv7x1Al",
    "ExecuteTime": {
     "end_time": "2023-12-07T10:40:11.070646700Z",
     "start_time": "2023-12-07T10:40:02.340229100Z"
    }
   },
   "outputs": [
    {
     "name": "stdout",
     "output_type": "stream",
     "text": [
      "32/32 [==============================] - 9s 223ms/step - loss: 8.8151 - accuracy: 0.9530\n"
     ]
    },
    {
     "data": {
      "text/plain": "[8.815067291259766, 0.953000009059906]"
     },
     "execution_count": 15,
     "metadata": {},
     "output_type": "execute_result"
    }
   ],
   "source": [
    "model.evaluate(ds_test)"
   ]
  },
  {
   "cell_type": "markdown",
   "metadata": {
    "colab_type": "text",
    "id": "eWMWEosqqX1b"
   },
   "source": [
    "**[TODO] Load Test image 'test/0.1047.jpg', visualize it and check the network prediction**"
   ]
  },
  {
   "cell_type": "code",
   "execution_count": 74,
   "outputs": [
    {
     "data": {
      "text/plain": "<Figure size 500x500 with 1 Axes>",
      "image/png": "[encoded data removed]"
     },
     "metadata": {},
     "output_type": "display_data"
    }
   ],
   "source": [
    "# Showing the image\n",
    "data, label = load_image('./test/0.1047.jpg', resize_to=(128, 128))\n",
    "ds_img_data = tf.data.Dataset.from_tensor_slices([data])\n",
    "plt.figure(figsize=(5, 5))\n",
    "plt.imshow(data)\n",
    "plt.axis('off')\n",
    "plt.show()"
   ],
   "metadata": {
    "collapsed": false,
    "ExecuteTime": {
     "end_time": "2023-12-07T11:02:15.603097400Z",
     "start_time": "2023-12-07T11:02:15.465192400Z"
    }
   }
  },
  {
   "cell_type": "code",
   "execution_count": 17,
   "metadata": {
    "colab": {},
    "colab_type": "code",
    "id": "OMVCrCxsqkh_",
    "ExecuteTime": {
     "end_time": "2023-12-07T10:40:37.264701400Z",
     "start_time": "2023-12-07T10:40:35.227542800Z"
    }
   },
   "outputs": [
    {
     "name": "stdout",
     "output_type": "stream",
     "text": [
      "1/1 [==============================] - 2s 2s/step\n"
     ]
    },
    {
     "data": {
      "text/plain": "array([[1., 0.]], dtype=float32)"
     },
     "execution_count": 17,
     "metadata": {},
     "output_type": "execute_result"
    }
   ],
   "source": [
    "# Predicting it\n",
    "ds_img_data = tf.data.Dataset.from_tensor_slices([data])\n",
    "model.predict(ds_img_data.batch(16))"
   ]
  },
  {
   "cell_type": "code",
   "execution_count": 108,
   "outputs": [],
   "source": [],
   "metadata": {
    "collapsed": false,
    "ExecuteTime": {
     "end_time": "2023-12-06T21:15:52.830834500Z",
     "start_time": "2023-12-06T21:15:52.829251400Z"
    }
   }
  }
 ],
 "metadata": {
  "accelerator": "GPU",
  "colab": {
   "name": "lab2.ipynb",
   "private_outputs": true,
   "provenance": [
    {
     "file_id": "15XkgU1c9QXy292Xu7szYg_35v1_fl5fu",
     "timestamp": 1571482920216
    }
   ],
   "toc_visible": true
  },
  "kernelspec": {
   "name": "python3",
   "language": "python",
   "display_name": "Python 3 (ipykernel)"
  }
 },
 "nbformat": 4,
 "nbformat_minor": 0
}
