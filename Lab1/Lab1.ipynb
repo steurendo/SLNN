{
  "cells": [
    {
      "cell_type": "markdown",
      "metadata": {
        "id": "w01Aikz9Pk04"
      },
      "source": [
        "**STATISTICAL LEARNING AND NEURAL NETWORKS, A.A. 2022/2023**\n",
        "\n",
        "**COMPUTER LAB 1** - k-NN classifier\n",
        "\n",
        "**Duration: 6 hours**"
      ]
    },
    {
      "cell_type": "markdown",
      "metadata": {
        "id": "snVsJOyvonwT"
      },
      "source": [
        "**Exercise 1 - Synthetic dataset**\n",
        "\n",
        "In this exercise, you will employ a synthetic dataset (file Lab1_Ex_1_Synthtetic.hdf5), containing labelled training data and test data for two classes. For each example the first two columns represent the features, while the last column represents the label.\n",
        "\n",
        "Task: your task is to implement a k-NN classifier, which calculates the probability that a given test example belongs to each class, and outputs a class label as the class with the highest probability. You will evaluate the classifier performance computing the average classification accuracy (i.e. the fraction of test examples that have been classified correctly in respect to the full test set).\n",
        "\n",
        "In particular, you should perform the following:\n",
        "\n",
        "*   Train a k-NN classifier for different values of k.\n",
        "*   Compare accuracy on the training set and the test set. Calculating accuracy of the training set means that you will have to classify each sample in the training set as if it were a test sample; one expects that classification of training samples will perform well, and this may also be used to validate your implementation. Accuracy is defined as the ratio between the number of test samples that are correctly classified, and the total number of test samples. Create a graph using the matplotlib library showing the evolution of the accuracy for different values of k over the test set. Create a second graph to show the evolution of the accuracy for different values of k over the train set and compare the two.\n",
        "\n",
        "*   Identifying overfitting and underfitting in the obtained results.\n",
        "\n",
        "Note that, for this computer lab, you do not need to employ a validation set.\n",
        "\n",
        "**Other indications:**\n",
        "*   The student is required to implement the k-NN algorithm from scratch. Only the numpy library is allowed, while other libraries such as scikit_learn are forbidden."
      ]
    },
    {
      "cell_type": "code",
      "execution_count": 1,
      "metadata": {
        "id": "gqR9LW3xonHa"
      },
      "outputs": [],
      "source": [
        "import numpy as np\n",
        "import matplotlib.pyplot as plt\n",
        "import h5py\n",
        "\n",
        "#Implement a function to compute the Euclidean distance between two vectors, and one to implement the k-NN algorithm by:\n",
        "#   - Taking a sample\n",
        "#   - Computing all the distances between the sample element and the elements of the training set\n",
        "#   - sort the the training set based on the distances to the element (the use of functions like np.argsort is allowed)\n",
        "#   - select the top k elements in terms of distance\n",
        "#   - evaluate to which class the majority of these k elements belongs to (e.g., it is possible to use the function np.unique with the option return_counts=True and the function np.argmax)"
      ]
    },
    {
      "cell_type": "code",
      "source": [
        "# Computes euclidean distance between two vectors\n",
        "def eucl_distance(v1, v2):\n",
        "  assert len(v1) == len(v2)\n",
        "  v_diff = v1 - v2\n",
        "  return pow(v_diff.T @ v_diff, 0.5)\n",
        "\n",
        "# Computes K-NN given a dataset and the index of a sample\n",
        "def KNN(dataset, sample, Nf, k):\n",
        "  distances = [eucl_distance(d_i[:Nf], sample[:Nf]) for d_i in dataset]\n",
        "  val_sort = [dataset[i] for i in np.argsort(distances)]\n",
        "  knn = val_sort[:k]\n",
        "  classes, counts = np.unique([nn[Nf] for nn in knn], return_counts=True)\n",
        "  return classes[np.argmax(counts)]"
      ],
      "metadata": {
        "id": "L-ddrHXazDb6"
      },
      "execution_count": 2,
      "outputs": []
    },
    {
      "cell_type": "code",
      "execution_count": null,
      "metadata": {
        "id": "H0BBNF3AoyU2"
      },
      "outputs": [],
      "source": [
        "#Change the path to match the position of your file\n",
        "#The Dataset can be loaded using thhe file option in Google Colab (the directory icon on the left)\n",
        "Dataset1 = h5py.File('/content/Lab1_Ex_1_Synthtetic.hdf5')\n",
        "Data = np.array(Dataset1.get('Dataset'))\n",
        "\n",
        "Train_Set = Data[:200,:]\n",
        "Test_Set = Data[200:,:]\n",
        "\n",
        "#To be completed by the student\n",
        "accuracy_train = []\n",
        "accuracy_test = []\n",
        "\n",
        "Nf = 2\n",
        "N = 200\n",
        "for k in range(1, N + 1):\n",
        "  success_train = sum(KNN(Train_Set, sample, Nf, k) == sample[Nf] for sample in Train_Set)\n",
        "  success_test = sum(KNN(Test_Set, sample, Nf, k) == sample[Nf] for sample in Test_Set)\n",
        "  accuracy_train.append(success_train / len(Train_Set))\n",
        "  accuracy_test.append(success_test / len(Test_Set))"
      ]
    },
    {
      "cell_type": "code",
      "source": [
        "#Results\n",
        "plt.figure()\n",
        "plt.plot(accuracy_train, label=\"Train accuracy\")\n",
        "plt.plot(accuracy_test, label=\"Test accuracy\")\n",
        "plt.xlabel(\"K\")\n",
        "plt.ylabel(\"Accuracy\")\n",
        "plt.grid()\n",
        "plt.legend()\n",
        "plt.ylim([0, 1])\n",
        "plt.show()"
      ],
      "metadata": {
        "id": "icStwsFQ8Rzr"
      },
      "execution_count": null,
      "outputs": []
    },
    {
      "cell_type": "markdown",
      "metadata": {
        "id": "KyMY6gyCG4n6"
      },
      "source": [
        "**Student's comments to exercise 1**\n",
        "\n",
        "The plot shows a result that is quite robust, even in situations of overfitting (K = 1), while underfitting conditions (K near to N) it becomes less precise. The reason behind this could be that elements in train and test datasets have a high degree of similarity in terms of feature values, which results in a good accuracy even if under noisy condition caused by overfitting, and in a more randomic one when K reaches N and a more overall average result is obtained."
      ]
    },
    {
      "cell_type": "markdown",
      "metadata": {
        "id": "-00TK0cno8kU"
      },
      "source": [
        "**Exercise 2 - Wine dataset**\n",
        "\n",
        "*Part 1*\n",
        "\n",
        "In this exercise, a real problem will be examined. The dataset used in this exercise was derived from wine quality dataset from the work \"*Modeling wine preferences by data mining from physicochemical properties*\" by P. Cortez, A. Cerdeira, F. Almeida, T. Matos and J. Reis.\n",
        "\n",
        "For each element of the dataset 11 features are provided, representing different wine characteristics, such as density, pH and alcholic content, and the final column consists of a quality evaluation on a scale from 1 to 10. More information can be found at https://archive.ics.uci.edu/ml/datasets/wine+quality.\n",
        "\n",
        "A subset of the dataset containing 400 elements is provided. Create a training set and a test set of 200 samples each. The objective is to:\n",
        "*   Predict the wine quality over the test set using the k-NN algorithm and evaluating the prediction accuracy for different values of k. Create a graph using the matplotlib library showing the evolution of the accuracy for different values of k over the test set.\n",
        "*   Identifying overfitting and underfitting in the obtained results.\n",
        "\n",
        "*Part 2*\n",
        "\n",
        "The prediction of the wine quality could also be framed as a regression. Estimate the accuracy and the Mean Square Error achieved using linear regression. For this task is possible to use the library sklearn and the function linear_model.LinearRegression()"
      ]
    },
    {
      "cell_type": "markdown",
      "source": [
        "For this exercise, the first two code portions of the notebook need to be executed."
      ],
      "metadata": {
        "id": "JLGKI2PwrB3w"
      }
    },
    {
      "cell_type": "code",
      "execution_count": 9,
      "metadata": {
        "id": "umDKCqJRpBDl"
      },
      "outputs": [],
      "source": [
        "#Part 1\n",
        "\n",
        "Dataset2 = h5py.File('/content/Lab1_Ex_2_wine.hdf5')\n",
        "\n",
        "Data = np.array(Dataset2.get('Dataset'))\n",
        "\n",
        "Train_Set = Data[:200,:]\n",
        "Test_Set = Data[200:,:]\n",
        "\n",
        "#To be completed by the student\n",
        "Nf = 11\n",
        "N = 200"
      ]
    },
    {
      "cell_type": "code",
      "source": [
        "accuracy_test = []\n",
        "for k in range(1, N + 1):\n",
        "  success_test = sum(KNN(Train_Set, sample, Nf, k) == sample[Nf] for sample in Test_Set)\n",
        "  accuracy_test.append(success_test / len(Test_Set))"
      ],
      "metadata": {
        "id": "eEnhAW0T9sSi"
      },
      "execution_count": 11,
      "outputs": []
    },
    {
      "cell_type": "code",
      "source": [
        "#Part 1 - Results\n",
        "plt.figure()\n",
        "plt.plot(accuracy_test, label=\"Test accuracy\")\n",
        "plt.xlabel(\"K\")\n",
        "plt.ylabel(\"Accuracy\")\n",
        "plt.grid()\n",
        "plt.legend()\n",
        "plt.ylim([0, 1])\n",
        "plt.show()"
      ],
      "metadata": {
        "colab": {
          "base_uri": "https://localhost:8080/",
          "height": 455
        },
        "collapsed": true,
        "id": "DTao4Zy_A_r8",
        "outputId": "c38b2065-17ae-4c96-a7e9-4559544d20e1"
      },
      "execution_count": 12,
      "outputs": [
        {
          "output_type": "display_data",
          "data": {
            "text/plain": [
              "<Figure size 640x480 with 1 Axes>"
            ],
            "image/png": "[encoded data removed]"
          },
          "metadata": {}
        }
      ]
    },
    {
      "cell_type": "code",
      "execution_count": 7,
      "metadata": {
        "id": "4sN3cp91pHsv",
        "colab": {
          "base_uri": "https://localhost:8080/"
        },
        "outputId": "a99091c7-c1fe-4e1b-d33a-7e81450fc8ef"
      },
      "outputs": [
        {
          "output_type": "stream",
          "name": "stdout",
          "text": [
            "Score of prediction =  0.34432478874252936\n"
          ]
        }
      ],
      "source": [
        "#Part 2\n",
        "from sklearn import linear_model\n",
        "clf = linear_model.LinearRegression()\n",
        "\n",
        "#To be completed by the student\n",
        "X_train = Train_Set[:, :Nf]\n",
        "y_train = Train_Set[:, Nf:]\n",
        "clf.fit(X_train, y_train)\n",
        "print('Score of prediction = ', clf.score(X_train, y_train))\n",
        "w = clf.coef_.T\n",
        "\n",
        "X = Test_Set[:, :Nf]\n",
        "y = Test_Set[:, Nf:]\n",
        "y_hat = np.rint(clf.predict(X))\n",
        "\n",
        "accuracy = sum(y_hat[i] == y[i] for i in range(N))[0] / N\n",
        "e_MSE = (1/N) * np.linalg.norm(y - y_hat) ** 2"
      ]
    },
    {
      "cell_type": "code",
      "source": [
        "#Part 2 - Results\n",
        "print(f'Accuracy = {accuracy * 100}%')\n",
        "print('||y - Xw||^2 = ', e_MSE)"
      ],
      "metadata": {
        "colab": {
          "base_uri": "https://localhost:8080/"
        },
        "id": "hEGkDuNz-zOL",
        "outputId": "fb2c2f5f-ec14-4dcc-f4d2-017e65989cf1"
      },
      "execution_count": 8,
      "outputs": [
        {
          "output_type": "stream",
          "name": "stdout",
          "text": [
            "Accuracy = 47.0%\n",
            "||y - Xw||^2 =  0.68\n"
          ]
        }
      ]
    },
    {
      "cell_type": "markdown",
      "metadata": {
        "id": "cqYF9t2AIb4r"
      },
      "source": [
        "**Student's comments to exercise 2**\n",
        "\n",
        "*Add comments to the results of Exercise 2 here (may use LateX for formulas if needed).*"
      ]
    },
    {
      "cell_type": "markdown",
      "metadata": {
        "id": "6saN9xgEpGH2"
      },
      "source": [
        "**Exercise 3: Phoneme Dataset**\n",
        "\n",
        "In this exercise the Phoneme dataset is examined https://catalog.ldc.upenn.edu/LDC93s1. Each line represents 256 samples gathered at a 16 kHz of different speech signals. The objective is to classify wether the sound emitted is a \"sh\", \"iy\", \"dcl\", \"aa\", \"ao\" phoneme.  \n",
        "\n",
        "Again, a subset of the dataset containing 400 elements is provided. Create a training set and a test set of 200 samples each.\n",
        "\n",
        "\n",
        "*   Classify the samples which compose the test set using the k-NN algorithm and evaluate the prediction accuracy for different values of k. Create a graph using the matplotlib library showing the evolution of the accuracy for different values of k over the test set.\n",
        "*   Identifying overfitting and underfitting in the obtained results."
      ]
    },
    {
      "cell_type": "code",
      "execution_count": 13,
      "metadata": {
        "id": "SSQL6rM-pV9O"
      },
      "outputs": [],
      "source": [
        "Dataset3 = h5py.File('/content/Lab1_Ex_3.hdf5')\n",
        "\n",
        "Data = np.array(Dataset3.get('Dataset'))\n",
        "\n",
        "Train_Set = Data[:200,:]\n",
        "Test_Set = Data[200:,:]\n",
        "\n",
        "#To be completed by the student\n",
        "accuracy_test = []\n",
        "\n",
        "Nf = 255\n",
        "N = 200\n",
        "for k in range(1, N + 1):\n",
        "  success_test = sum(KNN(Train_Set, sample, Nf, k) == sample[Nf] for sample in Test_Set)\n",
        "  accuracy_test.append(success_test / len(Test_Set))"
      ]
    },
    {
      "cell_type": "code",
      "source": [
        "#Results\n",
        "plt.figure()\n",
        "plt.plot(accuracy_test, label=\"Test accuracy\")\n",
        "plt.xlabel(\"K\")\n",
        "plt.ylabel(\"Accuracy\")\n",
        "plt.grid()\n",
        "plt.legend()\n",
        "plt.ylim([0, 1])\n",
        "plt.show()"
      ],
      "metadata": {
        "colab": {
          "base_uri": "https://localhost:8080/",
          "height": 455
        },
        "id": "uh57zpU3Cei0",
        "outputId": "00b7ad55-124b-4f0a-ba78-d03ce4189134"
      },
      "execution_count": 14,
      "outputs": [
        {
          "output_type": "display_data",
          "data": {
            "text/plain": [
              "<Figure size 640x480 with 1 Axes>"
            ],
            "image/png": "[encoded data removed]"
          },
          "metadata": {}
        }
      ]
    },
    {
      "cell_type": "markdown",
      "metadata": {
        "id": "t-ZPSq-XIoEb"
      },
      "source": [
        "**Student's comments to exercise 3**\n",
        "\n",
        "*Add comments to the results of Exercise 3 here (may use LateX for formulas if needed).*"
      ]
    }
  ],
  "metadata": {
    "colab": {
      "provenance": []
    },
    "kernelspec": {
      "display_name": "Python 3",
      "name": "python3"
    },
    "language_info": {
      "name": "python"
    }
  },
  "nbformat": 4,
  "nbformat_minor": 0
}