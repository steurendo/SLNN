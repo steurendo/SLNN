{
 "nbformat": 4,
 "nbformat_minor": 0,
 "metadata": {
  "colab": {
   "name": "MNIST_ex1.ipynb",
   "provenance": [
    {
     "file_id": "15XkgU1c9QXy292Xu7szYg_35v1_fl5fu",
     "timestamp": 1571482920216
    }
   ],
   "private_outputs": true
  },
  "kernelspec": {
   "name": "python3",
   "language": "python",
   "display_name": "Python 3 (ipykernel)"
  },
  "accelerator": "GPU"
 },
 "cells": [
  {
   "cell_type": "markdown",
   "metadata": {
    "id": "AgaqxrCBIHWO",
    "colab_type": "text"
   },
   "source": [
    "# Digit recognition with a CNN"
   ]
  },
  {
   "cell_type": "markdown",
   "metadata": {
    "id": "qwPKXzBdsSai",
    "colab_type": "text"
   },
   "source": [
    "Code to initiliaze Tensorflow 2.0 in Colab"
   ]
  },
  {
   "cell_type": "code",
   "metadata": {
    "id": "4RHeyqF6rev2",
    "colab_type": "code",
    "colab": {},
    "ExecuteTime": {
     "end_time": "2023-12-02T18:04:51.740747700Z",
     "start_time": "2023-12-02T18:04:45.156260800Z"
    }
   },
   "source": [
    "from __future__ import absolute_import, division, print_function, unicode_literals\n",
    "import tensorflow as tf\n",
    "import datetime\n",
    "import numpy as np\n",
    "import matplotlib.pyplot as plt"
   ],
   "execution_count": 1,
   "outputs": [
    {
     "name": "stdout",
     "output_type": "stream",
     "text": [
      "WARNING:tensorflow:From D:\\Steurendo\\Programmazione\\Python\\PyCharm\\SLNN\\venv\\Lib\\site-packages\\keras\\src\\losses.py:2976: The name tf.losses.sparse_softmax_cross_entropy is deprecated. Please use tf.compat.v1.losses.sparse_softmax_cross_entropy instead.\n"
     ]
    }
   ]
  },
  {
   "cell_type": "markdown",
   "metadata": {
    "id": "WBmnWkSRslRb",
    "colab_type": "text"
   },
   "source": [
    "**Import the MNIST dataset. The default loader will return tensors for the train/test partitions of the images and the labels.**"
   ]
  },
  {
   "cell_type": "code",
   "metadata": {
    "id": "Aizfyvfms_nt",
    "colab_type": "code",
    "colab": {},
    "ExecuteTime": {
     "end_time": "2023-12-02T18:04:52.097438600Z",
     "start_time": "2023-12-02T18:04:51.743748600Z"
    }
   },
   "source": [
    "mnist = tf.keras.datasets.mnist\n",
    "(x_train, y_train), (x_test, y_test) = mnist.load_data()\n",
    "x_train = x_train[:,:,:,np.newaxis]/255.0\n",
    "x_test = x_test[:,:,:,np.newaxis]/255.0"
   ],
   "execution_count": 2,
   "outputs": []
  },
  {
   "cell_type": "markdown",
   "metadata": {
    "id": "_9TtiitutEm8",
    "colab_type": "text"
   },
   "source": [
    "**[TODO] Check the size of the loaded tensors**"
   ]
  },
  {
   "cell_type": "code",
   "metadata": {
    "id": "WlFW9kPUtpys",
    "colab_type": "code",
    "colab": {},
    "ExecuteTime": {
     "end_time": "2023-12-02T18:04:52.105175900Z",
     "start_time": "2023-12-02T18:04:52.099440600Z"
    }
   },
   "source": [
    "N = np.unique(y_train).shape[0]\n",
    "N_train = x_train.shape[0]\n",
    "N_test = x_test.shape[0]\n",
    "weight = x_train.shape[1]\n",
    "height = x_train.shape[2]\n",
    "print(f'Training set shape: {N_train}')\n",
    "print(f'Training labels shape: {y_train.shape}')\n",
    "print(f'Test set shape: {x_test.shape}')\n",
    "print(f'Test labels shape: {y_test.shape}')\n",
    "print(f'Number of classes: {N}')"
   ],
   "execution_count": 3,
   "outputs": [
    {
     "name": "stdout",
     "output_type": "stream",
     "text": [
      "Training set shape: 60000\n",
      "Training labels shape: (60000,)\n",
      "Test set shape: (10000, 28, 28, 1)\n",
      "Test labels shape: (10000,)\n",
      "Number of classes: 10\n"
     ]
    }
   ]
  },
  {
   "cell_type": "markdown",
   "metadata": {
    "id": "riIKsGjMK2KT",
    "colab_type": "text"
   },
   "source": [
    "**Prepare Keras callback for Tensorboard**"
   ]
  },
  {
   "cell_type": "code",
   "metadata": {
    "id": "Grf-GiJFK-sS",
    "colab_type": "code",
    "colab": {},
    "ExecuteTime": {
     "end_time": "2023-12-02T18:04:52.110703700Z",
     "start_time": "2023-12-02T18:04:52.106174500Z"
    }
   },
   "source": [
    "logdir = \"logs/scalars/\" + datetime.datetime.now().strftime(\"%Y%m%d-%H%M%S\")\n",
    "tensorboard_callback = tf.keras.callbacks.TensorBoard(log_dir=logdir, update_freq='batch')"
   ],
   "execution_count": 4,
   "outputs": []
  },
  {
   "cell_type": "markdown",
   "metadata": {
    "id": "IVlXyF_8xGsW",
    "colab_type": "text"
   },
   "source": [
    "**[TODO] Define a Keras Sequential model with the convolutional neural network**"
   ]
  },
  {
   "cell_type": "code",
   "metadata": {
    "id": "5C6JfgQNxf9P",
    "colab_type": "code",
    "colab": {},
    "ExecuteTime": {
     "end_time": "2023-12-02T18:29:14.022229300Z",
     "start_time": "2023-12-02T18:29:13.925833Z"
    }
   },
   "source": [
    "inputs = tf.keras.Input(shape=(height, weight, 1))\n",
    "h = tf.keras.layers.Conv2D(32, (5, 5),\n",
    "                           activation='relu',\n",
    "                           kernel_initializer=tf.keras.initializers.RandomNormal(mean=0.0, stddev=0.05, seed=None),\n",
    "                           kernel_regularizer=tf.keras.regularizers.l2(0.01))(inputs)\n",
    "h = tf.keras.layers.Dropout(0.5)(h)\n",
    "h = tf.keras.layers.MaxPooling2D()(h)\n",
    "h = tf.keras.layers.Conv2D(64, (5, 5),\n",
    "                           activation='relu',\n",
    "                           kernel_initializer=tf.keras.initializers.RandomNormal(mean=0.0, stddev=0.05, seed=None),\n",
    "                           kernel_regularizer=tf.keras.regularizers.l2(0.01))(h)\n",
    "h = tf.keras.layers.Dropout(0.5)(h)\n",
    "h = tf.keras.layers.MaxPooling2D()(h)\n",
    "h = tf.keras.layers.Conv2D(64, (4, 4),\n",
    "                           activation='relu',\n",
    "                           kernel_initializer=tf.keras.initializers.RandomNormal(mean=0.0, stddev=0.05, seed=None),\n",
    "                           kernel_regularizer=tf.keras.regularizers.l2(0.01))(h)\n",
    "h = tf.keras.layers.Flatten()(h)\n",
    "outputs = tf.keras.layers.Dense(N, activation='softmax')(h)\n",
    "model = tf.keras.Model(inputs=inputs, outputs=outputs)"
   ],
   "execution_count": 37,
   "outputs": []
  },
  {
   "cell_type": "markdown",
   "metadata": {
    "id": "L5Arv2jyxgSz",
    "colab_type": "text"
   },
   "source": [
    "**[TODO] Compile the Keras model: specify the optimization algorithm, the loss function and the test metric**"
   ]
  },
  {
   "cell_type": "code",
   "metadata": {
    "id": "JM9_th7SxlmM",
    "colab_type": "code",
    "colab": {},
    "ExecuteTime": {
     "end_time": "2023-12-02T18:29:15.270712700Z",
     "start_time": "2023-12-02T18:29:15.232763600Z"
    }
   },
   "source": [
    "model.compile(optimizer=tf.keras.optimizers.Adam(0.01), loss='sparse_categorical_crossentropy', metrics=['accuracy'])"
   ],
   "execution_count": 38,
   "outputs": []
  },
  {
   "cell_type": "markdown",
   "metadata": {
    "id": "wgY8SK7MxmBE",
    "colab_type": "text"
   },
   "source": [
    "**[TODO] Train the Keras model**"
   ]
  },
  {
   "cell_type": "code",
   "metadata": {
    "id": "H8-x6iwSxqqM",
    "colab_type": "code",
    "colab": {},
    "ExecuteTime": {
     "end_time": "2023-12-02T18:33:42.633355400Z",
     "start_time": "2023-12-02T18:29:16.230625300Z"
    }
   },
   "source": [
    "model.fit(x_train, y_train, batch_size=32, epochs=6)"
   ],
   "execution_count": 39,
   "outputs": [
    {
     "name": "stdout",
     "output_type": "stream",
     "text": [
      "Epoch 1/6\n",
      "1875/1875 [==============================] - 46s 24ms/step - loss: 0.6812 - accuracy: 0.8870\n",
      "Epoch 2/6\n",
      "1875/1875 [==============================] - 43s 23ms/step - loss: 0.5317 - accuracy: 0.9065\n",
      "Epoch 3/6\n",
      "1875/1875 [==============================] - 46s 24ms/step - loss: 0.5103 - accuracy: 0.9078\n",
      "Epoch 4/6\n",
      "1875/1875 [==============================] - 43s 23ms/step - loss: 0.5017 - accuracy: 0.9081\n",
      "Epoch 5/6\n",
      "1875/1875 [==============================] - 44s 23ms/step - loss: 0.5073 - accuracy: 0.9081\n",
      "Epoch 6/6\n",
      "1875/1875 [==============================] - 45s 24ms/step - loss: 0.4970 - accuracy: 0.9086\n"
     ]
    },
    {
     "data": {
      "text/plain": "<keras.src.callbacks.History at 0x1788ceae7d0>"
     },
     "execution_count": 39,
     "metadata": {},
     "output_type": "execute_result"
    }
   ]
  },
  {
   "cell_type": "markdown",
   "metadata": {
    "id": "0QhCHMnVFWv3",
    "colab_type": "text"
   },
   "source": [
    "**[TODO] Print model summary**"
   ]
  },
  {
   "cell_type": "code",
   "metadata": {
    "id": "VqTgD3xRFaJN",
    "colab_type": "code",
    "colab": {},
    "ExecuteTime": {
     "end_time": "2023-12-02T18:27:34.934230800Z",
     "start_time": "2023-12-02T18:27:34.934230800Z"
    }
   },
   "source": [
    "print(model.summary())"
   ],
   "execution_count": null,
   "outputs": []
  },
  {
   "cell_type": "markdown",
   "metadata": {
    "id": "Uva5AeZrxrf0",
    "colab_type": "text"
   },
   "source": [
    "**[TODO] Test the Keras model by computing the accuracy the whole test set**"
   ]
  },
  {
   "cell_type": "code",
   "metadata": {
    "id": "5536AAv7x1Al",
    "colab_type": "code",
    "colab": {},
    "ExecuteTime": {
     "start_time": "2023-12-02T18:27:34.935256700Z"
    }
   },
   "source": [
    "model.evaluate(x_test, y_test)"
   ],
   "execution_count": null,
   "outputs": []
  },
  {
   "cell_type": "markdown",
   "metadata": {
    "id": "TJe4IZYfGxh9",
    "colab_type": "text"
   },
   "source": [
    "**[TODO] Visualize test image number 47 and the prediction from the neural network**"
   ]
  },
  {
   "cell_type": "code",
   "metadata": {
    "id": "6233HLAIG98R",
    "colab_type": "code",
    "colab": {}
   },
   "source": [],
   "execution_count": 0,
   "outputs": []
  }
 ]
}
